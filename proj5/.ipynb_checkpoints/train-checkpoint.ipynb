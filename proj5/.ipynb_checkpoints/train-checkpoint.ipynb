{
 "cells": [
  {
   "cell_type": "code",
   "execution_count": 19,
   "id": "4ad60ecf-abf6-405e-9824-1b85b104a96f",
   "metadata": {
    "execution": {
     "iopub.execute_input": "2021-11-03T04:23:29.522979Z",
     "iopub.status.busy": "2021-11-03T04:23:29.522979Z",
     "iopub.status.idle": "2021-11-03T04:23:29.529964Z",
     "shell.execute_reply": "2021-11-03T04:23:29.529964Z",
     "shell.execute_reply.started": "2021-11-03T04:23:29.522979Z"
    },
    "tags": []
   },
   "outputs": [],
   "source": [
    "import torch\n",
    "\n",
    "import numpy as np\n",
    "\n",
    "from skimage.transform import resize\n",
    "\n",
    "from torch.utils.data import Dataset, DataLoader\n",
    "from torchvision import transforms, utils\n",
    "\n",
    "\n",
    "import torch.nn as nn\n",
    "import torch.nn.functional as F\n",
    "\n",
    "import matplotlib.pyplot as plt\n",
    "\n",
    "\n",
    "import skimage as sk\n",
    "import skimage.io as skio\n",
    "\n",
    "from sklearn.model_selection import train_test_split"
   ]
  },
  {
   "cell_type": "code",
   "execution_count": 5,
   "id": "ba092545-f598-4b3a-963c-f1942e9169f3",
   "metadata": {
    "execution": {
     "iopub.execute_input": "2021-11-03T04:09:26.118566Z",
     "iopub.status.busy": "2021-11-03T04:09:26.118566Z",
     "iopub.status.idle": "2021-11-03T04:09:26.124563Z",
     "shell.execute_reply": "2021-11-03T04:09:26.123583Z",
     "shell.execute_reply.started": "2021-11-03T04:09:26.118566Z"
    },
    "tags": []
   },
   "outputs": [],
   "source": [
    "import glob"
   ]
  },
  {
   "cell_type": "code",
   "execution_count": 35,
   "id": "0c5b9bc8-9623-4197-8b80-9e25ffd622a2",
   "metadata": {
    "execution": {
     "iopub.execute_input": "2021-11-03T05:00:14.452575Z",
     "iopub.status.busy": "2021-11-03T05:00:14.452575Z",
     "iopub.status.idle": "2021-11-03T05:00:14.469558Z",
     "shell.execute_reply": "2021-11-03T05:00:14.469558Z",
     "shell.execute_reply.started": "2021-11-03T05:00:14.452575Z"
    }
   },
   "outputs": [],
   "source": [
    "from tqdm import tqdm"
   ]
  },
  {
   "cell_type": "code",
   "execution_count": 6,
   "id": "6b94fd08-b918-4c80-8f13-6a1916fdfebc",
   "metadata": {
    "execution": {
     "iopub.execute_input": "2021-11-03T04:09:27.253928Z",
     "iopub.status.busy": "2021-11-03T04:09:27.253928Z",
     "iopub.status.idle": "2021-11-03T04:09:27.283848Z",
     "shell.execute_reply": "2021-11-03T04:09:27.283848Z",
     "shell.execute_reply.started": "2021-11-03T04:09:27.253928Z"
    },
    "tags": []
   },
   "outputs": [],
   "source": [
    "def display_grid_of_images(array_of_images, array_of_names, w = 6, h = 5, normalize_rgb = False):\n",
    "    num_rows = len(array_of_images)\n",
    "    num_cols = len(array_of_images[0])\n",
    "    \n",
    "    assert len(array_of_names) == num_rows, \"same num of rows for names and images\"\n",
    "    \n",
    "    assert all([len(row) == num_cols for row in array_of_images]), \"all rows need to be same length\"\n",
    "    assert all([len(row) == num_cols for row in array_of_names]), \"all rows need to be same length for strings too\"\n",
    "    \n",
    "    fig = plt.figure(figsize=(w * num_cols, h * num_rows))\n",
    "    subplots = fig.subplots(num_rows, num_cols)\n",
    "    \n",
    "    for row in range(num_rows):\n",
    "        for col in range(num_cols):\n",
    "            \n",
    "            ax = subplots[row, col]\n",
    "            ax.set_title(array_of_names[row][col])\n",
    "            pixels = array_of_images[row][col]\n",
    "            \n",
    "            if len(pixels.shape) == 2:\n",
    "                # grayscale (scalars)\n",
    "                ax.imshow(pixels,cmap='Greys_r')\n",
    "            if len(pixels.shape) == 3:\n",
    "                # rgb\n",
    "                if normalize_rgb:\n",
    "                    # gotta normalize the rgb ones too!\n",
    "                    pixels = pixels - np.min(pixels)\n",
    "                    pixels = pixels / np.max(pixels)\n",
    "                ax.imshow(pixels)\n",
    "def display_dictionary_of_images(dic, prefix = '', horiz = False, w = 6, h = 5, normalize_rgb = False):\n",
    "    %matplotlib inline\n",
    "    \n",
    "    if horiz:\n",
    "    \n",
    "        fig = plt.figure(figsize=(w * len(dic), h))\n",
    "        try:\n",
    "            subplots = list(fig.subplots(1, len(dic)))\n",
    "        except:\n",
    "            subplots = [fig.subplots(1, len(dic))]\n",
    "    else:\n",
    "        fig = plt.figure(figsize=(w, h * len(dic)))\n",
    "        try:\n",
    "            subplots = list(fig.subplots(len(dic), 1))\n",
    "        except:\n",
    "            subplots = [fig.subplots(len(dic), 1)]\n",
    "    \n",
    "    keylist = list(dic.keys())\n",
    "    \n",
    "    for i in range(len(dic)):\n",
    "        key = keylist[i]      \n",
    "        pixels = dic[key]\n",
    "\n",
    "        #Display the image\n",
    "        ax = subplots[i]\n",
    "        ax.set_title(prefix + ' ' + key)\n",
    "        if len(pixels.shape) == 2:\n",
    "            # grayscale (scalars)\n",
    "            ax.imshow(pixels,cmap='Greys_r')\n",
    "        if len(pixels.shape) == 3:\n",
    "            # rgb\n",
    "            # gotta normalize the rgb ones too!\n",
    "            if normalize_rgb:\n",
    "                pixels = pixels - np.min(pixels)\n",
    "                pixels = pixels / np.max(pixels)\n",
    "            ax.imshow(pixels)"
   ]
  },
  {
   "cell_type": "code",
   "execution_count": 32,
   "id": "7f6d5826-4078-437e-99d8-7370e8bca2bb",
   "metadata": {
    "execution": {
     "iopub.execute_input": "2021-11-03T04:58:11.084989Z",
     "iopub.status.busy": "2021-11-03T04:58:11.084989Z",
     "iopub.status.idle": "2021-11-03T04:58:11.092967Z",
     "shell.execute_reply": "2021-11-03T04:58:11.092967Z",
     "shell.execute_reply.started": "2021-11-03T04:58:11.084989Z"
    },
    "tags": []
   },
   "outputs": [
    {
     "name": "stdout",
     "output_type": "stream",
     "text": [
      "Using cuda device\n"
     ]
    }
   ],
   "source": [
    "device = 'cuda' if torch.cuda.is_available() else 'cpu'\n",
    "print('Using {} device'.format(device))\n"
   ]
  },
  {
   "cell_type": "code",
   "execution_count": 20,
   "id": "25f0a2b2-f647-4dd1-838a-7a7a54ef821f",
   "metadata": {
    "execution": {
     "iopub.execute_input": "2021-11-03T04:25:19.933213Z",
     "iopub.status.busy": "2021-11-03T04:25:19.932211Z",
     "iopub.status.idle": "2021-11-03T04:25:19.951179Z",
     "shell.execute_reply": "2021-11-03T04:25:19.950162Z",
     "shell.execute_reply.started": "2021-11-03T04:25:19.933213Z"
    }
   },
   "outputs": [],
   "source": [
    "def get_data():\n",
    "    anno_names = glob.glob(\"data/imm_face_db/*.asf\")\n",
    "    face_names = [s[:-3]+'jpg' for s in anno_names]\n",
    "    \n",
    "    noses = []\n",
    "\n",
    "    for anno_name in anno_names:\n",
    "        file = open(anno_name)\n",
    "        points = file.readlines()[16:74]\n",
    "        landmark = []\n",
    "\n",
    "        for point in points:\n",
    "            x,y = point.split('\\t')[2:4]\n",
    "            landmark.append([float(x), float(y)])\n",
    "\n",
    "        # the nose keypoint\n",
    "        noses.append(np.array(landmark).astype('float32')[-6])     \n",
    "    noses = np.array(noses)\n",
    "\n",
    "    faces = []\n",
    "\n",
    "    for face_name in face_names:\n",
    "\n",
    "        img = skio.imread(face_name)\n",
    "        img = (img.astype(np.float32) / 255 - 0.5)\n",
    "        img = resize(img, (60,80), anti_aliasing=True)\n",
    "        img = np.mean(img, axis = 2)\n",
    "        faces.append(img)\n",
    "        \n",
    "    faces = np.array(faces)\n",
    "    \n",
    "    return faces, noses\n"
   ]
  },
  {
   "cell_type": "code",
   "execution_count": 21,
   "id": "11c9c717-95b3-4294-ad74-43938504a3fa",
   "metadata": {
    "execution": {
     "iopub.execute_input": "2021-11-03T04:25:30.375816Z",
     "iopub.status.busy": "2021-11-03T04:25:30.375816Z",
     "iopub.status.idle": "2021-11-03T04:25:38.171989Z",
     "shell.execute_reply": "2021-11-03T04:25:38.171989Z",
     "shell.execute_reply.started": "2021-11-03T04:25:30.375816Z"
    }
   },
   "outputs": [],
   "source": [
    "X_all, y_all = get_data()"
   ]
  },
  {
   "cell_type": "code",
   "execution_count": 24,
   "id": "58e43f4d-8dfd-44a8-9066-7d05edf06da6",
   "metadata": {
    "execution": {
     "iopub.execute_input": "2021-11-03T04:53:39.631287Z",
     "iopub.status.busy": "2021-11-03T04:53:39.631287Z",
     "iopub.status.idle": "2021-11-03T04:53:39.649216Z",
     "shell.execute_reply": "2021-11-03T04:53:39.649216Z",
     "shell.execute_reply.started": "2021-11-03T04:53:39.631287Z"
    }
   },
   "outputs": [],
   "source": [
    "X_train, X_val, y_train, y_val = train_test_split(X_all, y_all, test_size=48, random_state=None, shuffle = False)"
   ]
  },
  {
   "cell_type": "code",
   "execution_count": 50,
   "id": "c636b1bf-8b78-4f53-be41-8a6d7bbe11e3",
   "metadata": {
    "execution": {
     "iopub.execute_input": "2021-11-04T05:19:57.165162Z",
     "iopub.status.busy": "2021-11-04T05:19:57.164164Z",
     "iopub.status.idle": "2021-11-04T05:19:57.176160Z",
     "shell.execute_reply": "2021-11-04T05:19:57.176160Z",
     "shell.execute_reply.started": "2021-11-04T05:19:57.164164Z"
    },
    "tags": []
   },
   "outputs": [],
   "source": [
    "class NosesDataset(Dataset):\n",
    "    \"\"\"Face Landmarks dataset.\"\"\"\n",
    "\n",
    "    def __init__(self,X, y, transform=None):\n",
    "        \n",
    "        assert len(X) == len(y)\n",
    "        \n",
    "        self.transform = transform\n",
    "                    \n",
    "        self.faces = torch.Tensor(X).unsqueeze(1)\n",
    "        \n",
    "        \n",
    "        self.noses = torch.Tensor(y)\n",
    "        \n",
    "    def __len__(self):\n",
    "        return len(self.noses)\n",
    "\n",
    "    def __getitem__(self, idx):\n",
    "        \n",
    "        if torch.is_tensor(idx):\n",
    "            idx = idx.tolist()\n",
    "\n",
    "        \n",
    "        sample = {'image': self.faces[idx], 'nose': self.noses[idx]}\n",
    "\n",
    "        if self.transform:\n",
    "            sample = self.transform(sample)\n",
    "\n",
    "        return sample\n"
   ]
  },
  {
   "cell_type": "code",
   "execution_count": 51,
   "id": "32d0d9ed-15da-4ed3-a398-7a66655743dc",
   "metadata": {
    "execution": {
     "iopub.execute_input": "2021-11-04T05:19:58.990671Z",
     "iopub.status.busy": "2021-11-04T05:19:58.990671Z",
     "iopub.status.idle": "2021-11-04T05:19:59.003660Z",
     "shell.execute_reply": "2021-11-04T05:19:59.003660Z",
     "shell.execute_reply.started": "2021-11-04T05:19:58.990671Z"
    },
    "tags": []
   },
   "outputs": [],
   "source": [
    "train_dataset = NosesDataset(X_train, y_train)"
   ]
  },
  {
   "cell_type": "code",
   "execution_count": 52,
   "id": "aaa71a63-3d5b-47be-aa5c-90182063f010",
   "metadata": {
    "execution": {
     "iopub.execute_input": "2021-11-04T05:19:59.455501Z",
     "iopub.status.busy": "2021-11-04T05:19:59.455501Z",
     "iopub.status.idle": "2021-11-04T05:19:59.464477Z",
     "shell.execute_reply": "2021-11-04T05:19:59.464477Z",
     "shell.execute_reply.started": "2021-11-04T05:19:59.455501Z"
    },
    "tags": []
   },
   "outputs": [],
   "source": [
    "val_dataset = NosesDataset(X_val, y_val)"
   ]
  },
  {
   "cell_type": "code",
   "execution_count": 53,
   "id": "d698054c-d2c2-45a8-ae9b-2d1ad9449e42",
   "metadata": {
    "execution": {
     "iopub.execute_input": "2021-11-04T05:20:01.205272Z",
     "iopub.status.busy": "2021-11-04T05:20:01.205272Z",
     "iopub.status.idle": "2021-11-04T05:20:01.219265Z",
     "shell.execute_reply": "2021-11-04T05:20:01.219265Z",
     "shell.execute_reply.started": "2021-11-04T05:20:01.205272Z"
    },
    "tags": []
   },
   "outputs": [
    {
     "data": {
      "text/plain": [
       "torch.Size([1, 60, 80])"
      ]
     },
     "execution_count": 53,
     "metadata": {},
     "output_type": "execute_result"
    }
   ],
   "source": [
    "train_dataset[0]['image'].shape"
   ]
  },
  {
   "cell_type": "code",
   "execution_count": 201,
   "id": "bf3afb78-37f9-4f56-b1aa-500f23a92f56",
   "metadata": {
    "execution": {
     "iopub.execute_input": "2021-11-05T03:50:42.373229Z",
     "iopub.status.busy": "2021-11-05T03:50:42.372232Z",
     "iopub.status.idle": "2021-11-05T03:50:42.383202Z",
     "shell.execute_reply": "2021-11-05T03:50:42.383202Z",
     "shell.execute_reply.started": "2021-11-05T03:50:42.373229Z"
    },
    "tags": []
   },
   "outputs": [],
   "source": [
    "class NoseNet(nn.Module):\n",
    "\n",
    "    def __init__(self):\n",
    "        super(NoseNet, self).__init__()\n",
    "        # 1 input image channel, 12 output channels, 5x5 square convolution\n",
    "        # kernel\n",
    "        self.conv1 = nn.Conv2d(1, 12, 5)\n",
    "        self.conv2 = nn.Conv2d(12, 12, 5)\n",
    "        self.conv3 = nn.Conv2d(12, 12, 5)\n",
    "        # an affine operation: y = Wx + b\n",
    "        self.fc1 = nn.Linear(288, 100)  # 5*5 from image dimension\n",
    "        self.fc2 = nn.Linear(100, 2)\n",
    "\n",
    "    def forward(self, x):\n",
    "        x = self.conv1(x)\n",
    "        x = F.relu(x)\n",
    "        x = F.max_pool2d(x, 2)\n",
    "        \n",
    "        x = F.relu(self.conv2(x))\n",
    "        x = F.max_pool2d(x, 2)\n",
    "        \n",
    "        x = F.relu(self.conv3(x))\n",
    "        x = F.max_pool2d(x, 2)\n",
    "        x = torch.flatten(x, 1) # flatten all dimensions except the batch dimension\n",
    "        \n",
    "        x = F.relu(self.fc1(x))\n",
    "        x = self.fc2(x)\n",
    "        return x\n",
    "\n"
   ]
  },
  {
   "cell_type": "code",
   "execution_count": null,
   "id": "aee5e624-8f8c-4c32-a84f-265e6fcc3256",
   "metadata": {
    "tags": []
   },
   "outputs": [],
   "source": []
  },
  {
   "cell_type": "code",
   "execution_count": 212,
   "id": "989cb113-c84a-48d2-bf1d-ac971316447f",
   "metadata": {
    "execution": {
     "iopub.execute_input": "2021-11-05T04:17:39.771960Z",
     "iopub.status.busy": "2021-11-05T04:17:39.771960Z",
     "iopub.status.idle": "2021-11-05T04:17:39.791906Z",
     "shell.execute_reply": "2021-11-05T04:17:39.791906Z",
     "shell.execute_reply.started": "2021-11-05T04:17:39.771960Z"
    },
    "tags": []
   },
   "outputs": [],
   "source": [
    "def train(dataloader, model, loss_fn, optimizer):\n",
    "    \n",
    "    size = len(dataloader.dataset)\n",
    "    print(f\"training on {size} samples\")\n",
    "    model.train()\n",
    "    \n",
    "    total_loss = 0\n",
    "    \n",
    "    for bidx, batch in tqdm(enumerate(dataloader)):\n",
    "        \n",
    "        # send data to gpu\n",
    "        x, y = batch['image'], batch['nose']\n",
    "        x, y = x.to(device), y.to(device)\n",
    "        \n",
    "        # do the forward/backward pass\n",
    "        model.zero_grad()\n",
    "        output = model(x)\n",
    "        loss = loss_fn(output,y)\n",
    "        loss.backward()\n",
    "        optimizer.step()\n",
    "        \n",
    "        total_loss += loss\n",
    "        \n",
    "    mean_loss = total_loss/(bidx + 1)\n",
    "        \n",
    "    return mean_loss\n",
    "\n",
    "def validate(dataloader, model, loss_fn):\n",
    "    \n",
    "    size = len(dataloader.dataset)\n",
    "    print(f\"validating on {size} samples\")\n",
    "    model.eval()\n",
    "    \n",
    "    total_loss = 0\n",
    "    \n",
    "    for bidx, batch in enumerate(dataloader):\n",
    "        \n",
    "        # send data to gpu\n",
    "        x, y = batch['image'], batch['nose']\n",
    "        x, y = x.to(device), y.to(device)\n",
    "        \n",
    "        # do the forward pass\n",
    "        output = model(x)\n",
    "        loss = loss_fn(output,y)      \n",
    "        total_loss += loss\n",
    "        \n",
    "    mean_loss = total_loss/(bidx + 1)\n",
    "        \n",
    "    return mean_loss\n",
    "\n",
    "def predict(dataloader, model):\n",
    "    \n",
    "    outputs = []\n",
    "    model.eval()\n",
    "    for bidx, batch in enumerate(dataloader):\n",
    "        \n",
    "        # send data to gpu\n",
    "        x, y = batch['image'], batch['nose']\n",
    "        x, y = x.to(device), y.to(device)\n",
    "        \n",
    "        # do the forward pass\n",
    "        output = model(x)\n",
    "        \n",
    "        # send data back to cpu and convert to np\n",
    "        output = output.cpu()\n",
    "        outputs.append(output.detach().numpy())\n",
    "    \n",
    "    all_outputs = np.stack(outputs, axis=0)\n",
    "    return all_outputs\n",
    "        \n",
    "        "
   ]
  },
  {
   "cell_type": "code",
   "execution_count": 203,
   "id": "b6907727-99a4-4e3b-930b-87ab89874850",
   "metadata": {
    "execution": {
     "iopub.execute_input": "2021-11-05T03:53:13.700325Z",
     "iopub.status.busy": "2021-11-05T03:53:13.700325Z",
     "iopub.status.idle": "2021-11-05T03:53:13.709301Z",
     "shell.execute_reply": "2021-11-05T03:53:13.709301Z",
     "shell.execute_reply.started": "2021-11-05T03:53:13.700325Z"
    },
    "tags": []
   },
   "outputs": [],
   "source": [
    "BATCH_SIZE = 1\n",
    "NUM_EPOCHS = 25"
   ]
  },
  {
   "cell_type": "code",
   "execution_count": 204,
   "id": "e5ec4559-06d8-4b39-9e3e-28eaf7458582",
   "metadata": {
    "execution": {
     "iopub.execute_input": "2021-11-05T03:53:17.459885Z",
     "iopub.status.busy": "2021-11-05T03:53:17.459885Z",
     "iopub.status.idle": "2021-11-05T03:53:17.469858Z",
     "shell.execute_reply": "2021-11-05T03:53:17.469858Z",
     "shell.execute_reply.started": "2021-11-05T03:53:17.459885Z"
    },
    "tags": []
   },
   "outputs": [],
   "source": [
    "train_loader = DataLoader(train_dataset, batch_size=BATCH_SIZE)\n",
    "val_loader = DataLoader(val_dataset, batch_size=BATCH_SIZE)"
   ]
  },
  {
   "cell_type": "code",
   "execution_count": 205,
   "id": "bfc3c52a-2c56-453a-b309-d1ef1cd5a287",
   "metadata": {
    "execution": {
     "iopub.execute_input": "2021-11-05T03:53:28.407577Z",
     "iopub.status.busy": "2021-11-05T03:53:28.407577Z",
     "iopub.status.idle": "2021-11-05T03:53:28.419545Z",
     "shell.execute_reply": "2021-11-05T03:53:28.419545Z",
     "shell.execute_reply.started": "2021-11-05T03:53:28.407577Z"
    },
    "tags": []
   },
   "outputs": [
    {
     "name": "stdout",
     "output_type": "stream",
     "text": [
      "NoseNet(\n",
      "  (conv1): Conv2d(1, 12, kernel_size=(5, 5), stride=(1, 1))\n",
      "  (conv2): Conv2d(12, 12, kernel_size=(5, 5), stride=(1, 1))\n",
      "  (conv3): Conv2d(12, 12, kernel_size=(5, 5), stride=(1, 1))\n",
      "  (fc1): Linear(in_features=288, out_features=100, bias=True)\n",
      "  (fc2): Linear(in_features=100, out_features=2, bias=True)\n",
      ")\n"
     ]
    }
   ],
   "source": [
    "model = NoseNet().to(device)\n",
    "loss_fn = nn.MSELoss()\n",
    "optimizer = torch.optim.Adam(model.parameters(), lr=1e-3)\n",
    "print(model)"
   ]
  },
  {
   "cell_type": "code",
   "execution_count": 206,
   "id": "bd8be20b-2959-4c01-8a11-30310984f2a0",
   "metadata": {
    "execution": {
     "iopub.execute_input": "2021-11-05T03:53:30.051387Z",
     "iopub.status.busy": "2021-11-05T03:53:30.051387Z",
     "iopub.status.idle": "2021-11-05T03:53:30.129178Z",
     "shell.execute_reply": "2021-11-05T03:53:30.128182Z",
     "shell.execute_reply.started": "2021-11-05T03:53:30.051387Z"
    },
    "tags": []
   },
   "outputs": [],
   "source": [
    "train_loss_history = []\n",
    "val_loss_history = []"
   ]
  },
  {
   "cell_type": "code",
   "execution_count": 207,
   "id": "b9b0deb8-87ea-4481-a98b-041e9a8a3a16",
   "metadata": {
    "execution": {
     "iopub.execute_input": "2021-11-05T03:53:42.416291Z",
     "iopub.status.busy": "2021-11-05T03:53:42.416291Z",
     "iopub.status.idle": "2021-11-05T03:53:55.851330Z",
     "shell.execute_reply": "2021-11-05T03:53:55.851330Z",
     "shell.execute_reply.started": "2021-11-05T03:53:42.416291Z"
    },
    "tags": []
   },
   "outputs": [
    {
     "name": "stdout",
     "output_type": "stream",
     "text": [
      "training on 192 samples\n"
     ]
    },
    {
     "name": "stderr",
     "output_type": "stream",
     "text": [
      "192it [00:00, 393.69it/s]\n"
     ]
    },
    {
     "name": "stdout",
     "output_type": "stream",
     "text": [
      "validating on 48 samples\n",
      "epoch 0, train_loss 0.01784968562424183, val_loss 0.0067014629021286964\n",
      "training on 192 samples\n"
     ]
    },
    {
     "name": "stderr",
     "output_type": "stream",
     "text": [
      "192it [00:00, 374.54it/s]\n"
     ]
    },
    {
     "name": "stdout",
     "output_type": "stream",
     "text": [
      "validating on 48 samples\n",
      "epoch 1, train_loss 0.004811994265764952, val_loss 0.005848027300089598\n",
      "training on 192 samples\n"
     ]
    },
    {
     "name": "stderr",
     "output_type": "stream",
     "text": [
      "192it [00:00, 388.13it/s]\n"
     ]
    },
    {
     "name": "stdout",
     "output_type": "stream",
     "text": [
      "validating on 48 samples\n",
      "epoch 2, train_loss 0.004118660464882851, val_loss 0.00525932852178812\n",
      "training on 192 samples\n"
     ]
    },
    {
     "name": "stderr",
     "output_type": "stream",
     "text": [
      "192it [00:00, 398.58it/s]\n"
     ]
    },
    {
     "name": "stdout",
     "output_type": "stream",
     "text": [
      "validating on 48 samples\n",
      "epoch 3, train_loss 0.0033733677119016647, val_loss 0.0033493058290332556\n",
      "training on 192 samples\n"
     ]
    },
    {
     "name": "stderr",
     "output_type": "stream",
     "text": [
      "192it [00:00, 358.50it/s]\n"
     ]
    },
    {
     "name": "stdout",
     "output_type": "stream",
     "text": [
      "validating on 48 samples\n",
      "epoch 4, train_loss 0.0030137142166495323, val_loss 0.004071773029863834\n",
      "training on 192 samples\n"
     ]
    },
    {
     "name": "stderr",
     "output_type": "stream",
     "text": [
      "192it [00:00, 375.27it/s]\n"
     ]
    },
    {
     "name": "stdout",
     "output_type": "stream",
     "text": [
      "validating on 48 samples\n",
      "epoch 5, train_loss 0.002491283230483532, val_loss 0.002646059263497591\n",
      "training on 192 samples\n"
     ]
    },
    {
     "name": "stderr",
     "output_type": "stream",
     "text": [
      "192it [00:00, 396.94it/s]\n"
     ]
    },
    {
     "name": "stdout",
     "output_type": "stream",
     "text": [
      "validating on 48 samples\n",
      "epoch 6, train_loss 0.0018817296950146556, val_loss 0.0020466826390475035\n",
      "training on 192 samples\n"
     ]
    },
    {
     "name": "stderr",
     "output_type": "stream",
     "text": [
      "192it [00:00, 382.73it/s]\n"
     ]
    },
    {
     "name": "stdout",
     "output_type": "stream",
     "text": [
      "validating on 48 samples\n",
      "epoch 7, train_loss 0.001524606952443719, val_loss 0.001964575843885541\n",
      "training on 192 samples\n"
     ]
    },
    {
     "name": "stderr",
     "output_type": "stream",
     "text": [
      "192it [00:00, 398.58it/s]\n"
     ]
    },
    {
     "name": "stdout",
     "output_type": "stream",
     "text": [
      "validating on 48 samples\n",
      "epoch 8, train_loss 0.0013782719615846872, val_loss 0.0029437574557960033\n",
      "training on 192 samples\n"
     ]
    },
    {
     "name": "stderr",
     "output_type": "stream",
     "text": [
      "192it [00:00, 404.43it/s]\n"
     ]
    },
    {
     "name": "stdout",
     "output_type": "stream",
     "text": [
      "validating on 48 samples\n",
      "epoch 9, train_loss 0.0013544249814003706, val_loss 0.0024779406376183033\n",
      "training on 192 samples\n"
     ]
    },
    {
     "name": "stderr",
     "output_type": "stream",
     "text": [
      "192it [00:00, 373.81it/s]\n"
     ]
    },
    {
     "name": "stdout",
     "output_type": "stream",
     "text": [
      "validating on 48 samples\n",
      "epoch 10, train_loss 0.0014206969644874334, val_loss 0.0028818135615438223\n",
      "training on 192 samples\n"
     ]
    },
    {
     "name": "stderr",
     "output_type": "stream",
     "text": [
      "192it [00:00, 406.15it/s]\n"
     ]
    },
    {
     "name": "stdout",
     "output_type": "stream",
     "text": [
      "validating on 48 samples\n",
      "epoch 11, train_loss 0.0016457471065223217, val_loss 0.002045323373749852\n",
      "training on 192 samples\n"
     ]
    },
    {
     "name": "stderr",
     "output_type": "stream",
     "text": [
      "192it [00:00, 376.00it/s]\n"
     ]
    },
    {
     "name": "stdout",
     "output_type": "stream",
     "text": [
      "validating on 48 samples\n",
      "epoch 12, train_loss 0.0016010056715458632, val_loss 0.0031275476794689894\n",
      "training on 192 samples\n"
     ]
    },
    {
     "name": "stderr",
     "output_type": "stream",
     "text": [
      "192it [00:00, 405.29it/s]\n"
     ]
    },
    {
     "name": "stdout",
     "output_type": "stream",
     "text": [
      "validating on 48 samples\n",
      "epoch 13, train_loss 0.0012265245895832777, val_loss 0.004835390951484442\n",
      "training on 192 samples\n"
     ]
    },
    {
     "name": "stderr",
     "output_type": "stream",
     "text": [
      "192it [00:00, 379.71it/s]\n"
     ]
    },
    {
     "name": "stdout",
     "output_type": "stream",
     "text": [
      "validating on 48 samples\n",
      "epoch 14, train_loss 0.0010234718210995197, val_loss 0.0038645376916974783\n",
      "training on 192 samples\n"
     ]
    },
    {
     "name": "stderr",
     "output_type": "stream",
     "text": [
      "192it [00:00, 398.58it/s]\n"
     ]
    },
    {
     "name": "stdout",
     "output_type": "stream",
     "text": [
      "validating on 48 samples\n",
      "epoch 15, train_loss 0.0007645442383363843, val_loss 0.004514455795288086\n",
      "training on 192 samples\n"
     ]
    },
    {
     "name": "stderr",
     "output_type": "stream",
     "text": [
      "192it [00:00, 366.69it/s]\n"
     ]
    },
    {
     "name": "stdout",
     "output_type": "stream",
     "text": [
      "validating on 48 samples\n",
      "epoch 16, train_loss 0.0007013307767920196, val_loss 0.004833421669900417\n",
      "training on 192 samples\n"
     ]
    },
    {
     "name": "stderr",
     "output_type": "stream",
     "text": [
      "192it [00:00, 403.59it/s]\n"
     ]
    },
    {
     "name": "stdout",
     "output_type": "stream",
     "text": [
      "validating on 48 samples\n",
      "epoch 17, train_loss 0.0006238354835659266, val_loss 0.004254547879099846\n",
      "training on 192 samples\n"
     ]
    },
    {
     "name": "stderr",
     "output_type": "stream",
     "text": [
      "192it [00:00, 393.69it/s]\n"
     ]
    },
    {
     "name": "stdout",
     "output_type": "stream",
     "text": [
      "validating on 48 samples\n",
      "epoch 18, train_loss 0.0006396896205842495, val_loss 0.0032821360509842634\n",
      "training on 192 samples\n"
     ]
    },
    {
     "name": "stderr",
     "output_type": "stream",
     "text": [
      "192it [00:00, 363.90it/s]\n"
     ]
    },
    {
     "name": "stdout",
     "output_type": "stream",
     "text": [
      "validating on 48 samples\n",
      "epoch 19, train_loss 0.0006527702207677066, val_loss 0.0030961509328335524\n",
      "training on 192 samples\n"
     ]
    },
    {
     "name": "stderr",
     "output_type": "stream",
     "text": [
      "192it [00:00, 390.49it/s]\n"
     ]
    },
    {
     "name": "stdout",
     "output_type": "stream",
     "text": [
      "validating on 48 samples\n",
      "epoch 20, train_loss 0.0006549085373990238, val_loss 0.002511414000764489\n",
      "training on 192 samples\n"
     ]
    },
    {
     "name": "stderr",
     "output_type": "stream",
     "text": [
      "192it [00:00, 401.07it/s]\n"
     ]
    },
    {
     "name": "stdout",
     "output_type": "stream",
     "text": [
      "validating on 48 samples\n",
      "epoch 21, train_loss 0.0005714888102374971, val_loss 0.0018034538952633739\n",
      "training on 192 samples\n"
     ]
    },
    {
     "name": "stderr",
     "output_type": "stream",
     "text": [
      "192it [00:00, 404.41it/s]\n"
     ]
    },
    {
     "name": "stdout",
     "output_type": "stream",
     "text": [
      "validating on 48 samples\n",
      "epoch 22, train_loss 0.0004742521559819579, val_loss 0.0028588054701685905\n",
      "training on 192 samples\n"
     ]
    },
    {
     "name": "stderr",
     "output_type": "stream",
     "text": [
      "192it [00:00, 376.00it/s]\n"
     ]
    },
    {
     "name": "stdout",
     "output_type": "stream",
     "text": [
      "validating on 48 samples\n",
      "epoch 23, train_loss 0.0004711317305918783, val_loss 0.002244399394840002\n",
      "training on 192 samples\n"
     ]
    },
    {
     "name": "stderr",
     "output_type": "stream",
     "text": [
      "192it [00:00, 360.51it/s]"
     ]
    },
    {
     "name": "stdout",
     "output_type": "stream",
     "text": [
      "validating on 48 samples\n",
      "epoch 24, train_loss 0.0004457854083739221, val_loss 0.0024019700940698385\n"
     ]
    },
    {
     "name": "stderr",
     "output_type": "stream",
     "text": [
      "\n"
     ]
    }
   ],
   "source": [
    "val_loss_running_avg = [999, 999,999,999,999]\n",
    "for epoch in range(NUM_EPOCHS):\n",
    "    train_loss = train(train_loader, model, loss_fn, optimizer)\n",
    "    val_loss = validate(val_loader, model, loss_fn)\n",
    "    \n",
    "    train_loss_history.append(train_loss)\n",
    "    val_loss_history.append(val_loss)\n",
    "    \n",
    "#     if epoch > 10 and val_loss >= (sum(val_loss_running_avg)/len(val_loss_running_avg)):\n",
    "#         break\n",
    "    val_loss_running_avg.pop(0)\n",
    "    val_loss_running_avg.append(val_loss)\n",
    "    print(f\"epoch {epoch}, train_loss {train_loss}, val_loss {val_loss}\")"
   ]
  },
  {
   "cell_type": "markdown",
   "id": "4ca7773b-fc6f-4f6b-8000-9ab1d0006420",
   "metadata": {},
   "source": [
    "0.0022 for 1e-3, default\n",
    "\n",
    "0.0021 for 1e-3, 6-6-12 conv\n",
    "\n",
    "0.0026 for 1e-3, 6-6-6 conv\n",
    "\n",
    "0.0034 for 1e-4, default layer sizes"
   ]
  },
  {
   "cell_type": "code",
   "execution_count": 211,
   "id": "51a8fddb-02cf-4d6a-838a-fd5cd7bb9954",
   "metadata": {
    "execution": {
     "iopub.execute_input": "2021-11-05T04:11:15.504838Z",
     "iopub.status.busy": "2021-11-05T04:11:15.504838Z",
     "iopub.status.idle": "2021-11-05T04:11:15.656596Z",
     "shell.execute_reply": "2021-11-05T04:11:15.656596Z",
     "shell.execute_reply.started": "2021-11-05T04:11:15.504838Z"
    },
    "tags": []
   },
   "outputs": [
    {
     "data": {
      "text/plain": [
       "<matplotlib.legend.Legend at 0x1c82d4dd880>"
      ]
     },
     "execution_count": 211,
     "metadata": {},
     "output_type": "execute_result"
    },
    {
     "data": {
      "image/png": "[encoded data removed]",
      "text/plain": [
       "<Figure size 720x504 with 1 Axes>"
      ]
     },
     "metadata": {
      "needs_background": "light"
     },
     "output_type": "display_data"
    }
   ],
   "source": [
    "plt.figure(figsize = (10, 7))\n",
    "plt.plot(range(len(train_loss_history)), train_loss_history, label = 'training loss')\n",
    "plt.plot(range(len(val_loss_history)), val_loss_history, label = 'validation loss')\n",
    "plt.ylabel('MSE')\n",
    "plt.xlabel('epoch')\n",
    "plt.title('train and val loss over epochs for default config')\n",
    "plt.legend()\n"
   ]
  },
  {
   "cell_type": "code",
   "execution_count": 213,
   "id": "b5674f5b-82cb-4a4d-bdc8-bdf10e96942d",
   "metadata": {
    "execution": {
     "iopub.execute_input": "2021-11-05T04:19:19.336497Z",
     "iopub.status.busy": "2021-11-05T04:19:19.336497Z",
     "iopub.status.idle": "2021-11-05T04:19:19.403317Z",
     "shell.execute_reply": "2021-11-05T04:19:19.403317Z",
     "shell.execute_reply.started": "2021-11-05T04:19:19.336497Z"
    },
    "tags": []
   },
   "outputs": [],
   "source": [
    "out = predict(val_loader,model)"
   ]
  },
  {
   "cell_type": "code",
   "execution_count": 214,
   "id": "d9c156ce-b88d-437a-9461-413200a4953f",
   "metadata": {
    "execution": {
     "iopub.execute_input": "2021-11-05T04:19:19.836374Z",
     "iopub.status.busy": "2021-11-05T04:19:19.836374Z",
     "iopub.status.idle": "2021-11-05T04:19:19.841361Z",
     "shell.execute_reply": "2021-11-05T04:19:19.841361Z",
     "shell.execute_reply.started": "2021-11-05T04:19:19.836374Z"
    },
    "tags": []
   },
   "outputs": [],
   "source": [
    "out = out.reshape((out.shape[0], out.shape[-1]))"
   ]
  },
  {
   "cell_type": "code",
   "execution_count": 215,
   "id": "8b3918d8-e509-4dd3-b4db-2e840756b817",
   "metadata": {
    "execution": {
     "iopub.execute_input": "2021-11-05T04:19:23.088934Z",
     "iopub.status.busy": "2021-11-05T04:19:23.088934Z",
     "iopub.status.idle": "2021-11-05T04:19:23.099903Z",
     "shell.execute_reply": "2021-11-05T04:19:23.099903Z",
     "shell.execute_reply.started": "2021-11-05T04:19:23.088934Z"
    },
    "tags": []
   },
   "outputs": [
    {
     "data": {
      "text/plain": [
       "array([[0.42932287, 0.6048939 ],\n",
       "       [0.4186024 , 0.6341814 ],\n",
       "       [0.4036212 , 0.61834866],\n",
       "       [0.43461567, 0.56699944],\n",
       "       [0.37850505, 0.60055125],\n",
       "       [0.3887931 , 0.6214067 ],\n",
       "       [0.46837923, 0.62933767],\n",
       "       [0.49104223, 0.59903085],\n",
       "       [0.36135006, 0.6092082 ],\n",
       "       [0.5901481 , 0.5925194 ],\n",
       "       [0.5206013 , 0.5894755 ],\n",
       "       [0.4976936 , 0.5714404 ],\n",
       "       [0.47436237, 0.5658834 ],\n",
       "       [0.47492936, 0.57507   ],\n",
       "       [0.3811018 , 0.5364623 ],\n",
       "       [0.56122875, 0.6265365 ],\n",
       "       [0.49032325, 0.57096195],\n",
       "       [0.430089  , 0.5448718 ],\n",
       "       [0.5069697 , 0.6313255 ],\n",
       "       [0.52723026, 0.6372745 ],\n",
       "       [0.3837866 , 0.5946351 ],\n",
       "       [0.69904995, 0.65190697],\n",
       "       [0.49902126, 0.59897244],\n",
       "       [0.66101813, 0.6023234 ],\n",
       "       [0.4720932 , 0.5805666 ],\n",
       "       [0.4571824 , 0.6192962 ],\n",
       "       [0.3502836 , 0.6296452 ],\n",
       "       [0.6393767 , 0.66364765],\n",
       "       [0.48442045, 0.588294  ],\n",
       "       [0.4790725 , 0.5988153 ],\n",
       "       [0.45974225, 0.57794976],\n",
       "       [0.45713118, 0.5924815 ],\n",
       "       [0.37116268, 0.61533237],\n",
       "       [0.5924045 , 0.6321573 ],\n",
       "       [0.50973415, 0.6031675 ],\n",
       "       [0.46427968, 0.6019727 ],\n",
       "       [0.51451445, 0.54071575],\n",
       "       [0.50002635, 0.5540707 ],\n",
       "       [0.4387269 , 0.52175504],\n",
       "       [0.59764814, 0.56247175],\n",
       "       [0.54737693, 0.56420696],\n",
       "       [0.6599897 , 0.62392795],\n",
       "       [0.4771823 , 0.6115338 ],\n",
       "       [0.4808201 , 0.5893717 ],\n",
       "       [0.42727846, 0.57966113],\n",
       "       [0.5524361 , 0.62785864],\n",
       "       [0.50739384, 0.6020509 ],\n",
       "       [0.47291717, 0.5819292 ]], dtype=float32)"
      ]
     },
     "execution_count": 215,
     "metadata": {},
     "output_type": "execute_result"
    }
   ],
   "source": [
    "out"
   ]
  },
  {
   "cell_type": "code",
   "execution_count": 112,
   "id": "531fcf39-b486-4bcf-87c9-0fa970e92cb6",
   "metadata": {
    "execution": {
     "iopub.execute_input": "2021-11-04T20:14:32.339336Z",
     "iopub.status.busy": "2021-11-04T20:14:32.339336Z",
     "iopub.status.idle": "2021-11-04T20:14:32.356292Z",
     "shell.execute_reply": "2021-11-04T20:14:32.356292Z",
     "shell.execute_reply.started": "2021-11-04T20:14:32.339336Z"
    },
    "tags": []
   },
   "outputs": [
    {
     "data": {
      "text/plain": [
       "(48, 2)"
      ]
     },
     "execution_count": 112,
     "metadata": {},
     "output_type": "execute_result"
    }
   ],
   "source": [
    "y_val.shape"
   ]
  },
  {
   "cell_type": "code",
   "execution_count": null,
   "id": "680b0673-f959-48b7-a4a7-4d1beb5467fe",
   "metadata": {},
   "outputs": [],
   "source": []
  }
 ],
 "metadata": {
  "kernelspec": {
   "display_name": "Python 3 (ipykernel)",
   "language": "python",
   "name": "python3"
  },
  "language_info": {
   "codemirror_mode": {
    "name": "ipython",
    "version": 3
   },
   "file_extension": ".py",
   "mimetype": "text/x-python",
   "name": "python",
   "nbconvert_exporter": "python",
   "pygments_lexer": "ipython3",
   "version": "3.8.11"
  }
 },
 "nbformat": 4,
 "nbformat_minor": 5
}
