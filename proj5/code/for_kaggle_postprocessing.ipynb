{
 "cells": [
  {
   "cell_type": "code",
   "execution_count": 49,
   "id": "2716cfbb-08f5-44b7-9797-be8a72efb268",
   "metadata": {},
   "outputs": [],
   "source": [
    "import pandas as pd\n",
    "import numpy as np"
   ]
  },
  {
   "cell_type": "code",
   "execution_count": 50,
   "id": "3107d983-7a28-4847-a3ba-d20848de6574",
   "metadata": {},
   "outputs": [],
   "source": [
    "box_info = np.load('data/test_box.npy')"
   ]
  },
  {
   "cell_type": "code",
   "execution_count": 51,
   "id": "466c9977-9fb2-4bbc-bf2f-db73070440cd",
   "metadata": {},
   "outputs": [],
   "source": [
    "y_test = np.load('data/y_test_model92_90.npy')"
   ]
  },
  {
   "cell_type": "code",
   "execution_count": 52,
   "id": "9b5445b2-f392-46f5-830d-c417876adf2d",
   "metadata": {},
   "outputs": [
    {
     "data": {
      "text/plain": [
       "(1008, 136)"
      ]
     },
     "execution_count": 52,
     "metadata": {},
     "output_type": "execute_result"
    }
   ],
   "source": [
    "y_test.shape"
   ]
  },
  {
   "cell_type": "code",
   "execution_count": 53,
   "id": "fcd4ca41-ae2c-4787-ae5e-a906fa155117",
   "metadata": {},
   "outputs": [
    {
     "data": {
      "text/plain": [
       "array([0.3804083 , 0.42295462, 0.37029207, 0.4867027 , 0.37263465,\n",
       "       0.5536281 , 0.38833758, 0.6194913 , 0.40598184, 0.68363774,\n",
       "       0.42427227, 0.74804574, 0.44193968, 0.80786264, 0.46151742,\n",
       "       0.86175233, 0.5051    , 0.8857201 , 0.57112217, 0.88675123,\n",
       "       0.65351784, 0.86169755, 0.7351637 , 0.82392836, 0.80849856,\n",
       "       0.77205545, 0.8637789 , 0.7033673 , 0.8927377 , 0.61980414,\n",
       "       0.9079356 , 0.5295656 , 0.9187238 , 0.43843877, 0.3549061 ,\n",
       "       0.33514947, 0.37103003, 0.32050523, 0.3964118 , 0.33037776,\n",
       "       0.4218478 , 0.34869313, 0.4449507 , 0.37331578, 0.5135139 ,\n",
       "       0.38292384, 0.56633615, 0.36662078, 0.62335086, 0.3637387 ,\n",
       "       0.68133855, 0.37819794, 0.73395115, 0.4072595 , 0.47244233,\n",
       "       0.4360253 , 0.45595062, 0.4819548 , 0.43738163, 0.52741146,\n",
       "       0.41878664, 0.57392555, 0.41618735, 0.6034938 , 0.42994627,\n",
       "       0.61990577, 0.44781622, 0.63001645, 0.47624624, 0.62522817,\n",
       "       0.5054534 , 0.61996174, 0.3855159 , 0.40715957, 0.40341532,\n",
       "       0.3918644 , 0.4332816 , 0.39973897, 0.45676225, 0.42999342,\n",
       "       0.4275787 , 0.4322747 , 0.39834246, 0.42636448, 0.5719589 ,\n",
       "       0.45045903, 0.5989504 , 0.4277404 , 0.6350246 , 0.4337646 ,\n",
       "       0.66883117, 0.45459917, 0.634263  , 0.46726573, 0.59883463,\n",
       "       0.46359318, 0.43454444, 0.71027076, 0.42967105, 0.68523324,\n",
       "       0.44218773, 0.675968  , 0.45648265, 0.68490225, 0.47791705,\n",
       "       0.6815492 , 0.52421415, 0.700078  , 0.5754186 , 0.73290384,\n",
       "       0.52849144, 0.7670694 , 0.48517054, 0.7800405 , 0.46194673,\n",
       "       0.77823746, 0.44398057, 0.7709131 , 0.43342355, 0.7466643 ,\n",
       "       0.44424036, 0.7129571 , 0.44481492, 0.702064  , 0.45880896,\n",
       "       0.7053707 , 0.4805078 , 0.7079029 , 0.55741024, 0.72917706,\n",
       "       0.48178893, 0.73985344, 0.46066943, 0.73811996, 0.44569597,\n",
       "       0.72965884], dtype=float32)"
      ]
     },
     "execution_count": 53,
     "metadata": {},
     "output_type": "execute_result"
    }
   ],
   "source": [
    "y_test[0]"
   ]
  },
  {
   "cell_type": "code",
   "execution_count": 54,
   "id": "34ebf009-7d06-4cfa-9869-8aa4da814acb",
   "metadata": {},
   "outputs": [],
   "source": [
    "y_test_adjusted = np.zeros((y_test.shape))"
   ]
  },
  {
   "cell_type": "code",
   "execution_count": 55,
   "id": "b6ed8d16-4c85-482f-8c71-ca4f56048471",
   "metadata": {},
   "outputs": [],
   "source": [
    "for i in range(len(y_test)):\n",
    "    points = y_test[i].reshape((68, 2))\n",
    "    box = box_info[i]\n",
    "    top, left, width, height = box\n",
    "    \n",
    "    points = points * np.array([width, height])\n",
    "    points = points + np.array([left, top])\n",
    "    \n",
    "    points = points.flatten()\n",
    "    \n",
    "    y_test_adjusted[i] = points\n",
    "    "
   ]
  },
  {
   "cell_type": "markdown",
   "id": "8668d56f-4892-4745-836f-54c2d7807aed",
   "metadata": {},
   "source": [
    "box: top, left, width, height"
   ]
  },
  {
   "cell_type": "code",
   "execution_count": 56,
   "id": "7406540d-d65e-45be-9e5c-9ae6539d07f5",
   "metadata": {},
   "outputs": [
    {
     "data": {
      "text/plain": [
       "array([153.99680042, 330.58890265, 148.62508786, 364.43913922,\n",
       "       149.86899877, 399.97651422, 158.20725623, 434.94986922,\n",
       "       167.57635635, 469.011639  , 177.28857484, 503.21228927,\n",
       "       186.66997102, 534.97506154, 197.06575182, 563.5904879 ,\n",
       "       220.20810628, 576.31735939, 255.265872  , 576.86490554,\n",
       "       299.01797426, 563.56140149, 342.37191868, 543.50595713,\n",
       "       381.31273609, 515.96144241, 410.66659015, 479.48803252,\n",
       "       426.0437116 , 435.11600041, 434.11381388, 387.19931912,\n",
       "       439.84234929, 338.81098855, 140.45514545, 283.96436697,\n",
       "       149.01694733, 276.18827799, 162.49466917, 281.43058926,\n",
       "       176.00117674, 291.1560533 , 188.2688216 , 304.2306799 ,\n",
       "       224.67589295, 309.33255982, 252.72449827, 300.67563367,\n",
       "       282.99930596, 299.14524218, 313.79076934, 306.82310519,\n",
       "       341.72806138, 322.25479135, 202.86687666, 337.52942988,\n",
       "       194.10977805, 361.9180057 , 184.24964297, 386.05548573,\n",
       "       174.37570846, 410.75446957, 172.99548072, 426.45521295,\n",
       "       180.30147126, 435.16996378, 189.79041436, 440.53873289,\n",
       "       204.88675225, 437.99615645, 220.39575952, 435.19968319,\n",
       "       156.70894209, 322.20173001, 166.21353614, 314.07999066,\n",
       "       182.07252985, 318.2613917 , 194.540757  , 334.32650647,\n",
       "       179.04428315, 335.53786528, 163.51984647, 332.39953965,\n",
       "       255.71017563, 345.19374666, 270.04265499, 333.13014978,\n",
       "       289.19806641, 336.32900617, 307.14935106, 347.39216027,\n",
       "       288.79364187, 354.11810005, 269.98119056, 352.16798121,\n",
       "       182.74309981, 483.15377486, 180.15532708, 469.85884798,\n",
       "       186.80168277, 464.93900341, 194.39228654, 469.68309516,\n",
       "       205.77395108, 467.90262067, 230.35771286, 477.74142361,\n",
       "       257.54727209, 495.17193806, 232.62895328, 513.31385106,\n",
       "       209.62555844, 520.20150685, 197.29371142, 519.24409235,\n",
       "       187.75368512, 515.35486889, 182.14790449, 502.47873569,\n",
       "       187.89163193, 484.5802117 , 188.19672275, 478.79597217,\n",
       "       195.62755698, 480.55185455, 207.14963704, 481.89644432,\n",
       "       247.98483753, 493.19301766, 207.82992357, 498.86217755,\n",
       "       196.61546633, 497.94169867, 188.6645582 , 493.44884515])"
      ]
     },
     "execution_count": 56,
     "metadata": {},
     "output_type": "execute_result"
    }
   ],
   "source": [
    "y_test_adjusted[0]"
   ]
  },
  {
   "cell_type": "code",
   "execution_count": 57,
   "id": "ebd9f5cd-eee9-4616-bf16-507f0024f9cb",
   "metadata": {},
   "outputs": [],
   "source": [
    "np.save('data/test_y_postprocessed.npy',y_test_adjusted)"
   ]
  },
  {
   "cell_type": "code",
   "execution_count": 68,
   "id": "b5aa67c7-a9dd-4b3e-a119-13bc26f023b7",
   "metadata": {},
   "outputs": [],
   "source": [
    "last_array = y_test_adjusted.flatten()"
   ]
  },
  {
   "cell_type": "code",
   "execution_count": 69,
   "id": "7423a77f-49ba-41db-b9e8-deec6f13def9",
   "metadata": {},
   "outputs": [],
   "source": [
    "last_array = np.rint(last_array)"
   ]
  },
  {
   "cell_type": "code",
   "execution_count": 70,
   "id": "94f20441-d551-49da-9f4c-4277be416464",
   "metadata": {},
   "outputs": [],
   "source": [
    "export = pd.DataFrame(last_array)"
   ]
  },
  {
   "cell_type": "code",
   "execution_count": 71,
   "id": "13e348f2-044a-42b1-aa90-dd28cf5177dd",
   "metadata": {},
   "outputs": [
    {
     "data": {
      "text/html": [
       "<div>\n",
       "<style scoped>\n",
       "    .dataframe tbody tr th:only-of-type {\n",
       "        vertical-align: middle;\n",
       "    }\n",
       "\n",
       "    .dataframe tbody tr th {\n",
       "        vertical-align: top;\n",
       "    }\n",
       "\n",
       "    .dataframe thead th {\n",
       "        text-align: right;\n",
       "    }\n",
       "</style>\n",
       "<table border=\"1\" class=\"dataframe\">\n",
       "  <thead>\n",
       "    <tr style=\"text-align: right;\">\n",
       "      <th></th>\n",
       "      <th>0</th>\n",
       "    </tr>\n",
       "  </thead>\n",
       "  <tbody>\n",
       "    <tr>\n",
       "      <th>0</th>\n",
       "      <td>154.0</td>\n",
       "    </tr>\n",
       "    <tr>\n",
       "      <th>1</th>\n",
       "      <td>331.0</td>\n",
       "    </tr>\n",
       "    <tr>\n",
       "      <th>2</th>\n",
       "      <td>149.0</td>\n",
       "    </tr>\n",
       "    <tr>\n",
       "      <th>3</th>\n",
       "      <td>364.0</td>\n",
       "    </tr>\n",
       "    <tr>\n",
       "      <th>4</th>\n",
       "      <td>150.0</td>\n",
       "    </tr>\n",
       "    <tr>\n",
       "      <th>...</th>\n",
       "      <td>...</td>\n",
       "    </tr>\n",
       "    <tr>\n",
       "      <th>137083</th>\n",
       "      <td>141.0</td>\n",
       "    </tr>\n",
       "    <tr>\n",
       "      <th>137084</th>\n",
       "      <td>323.0</td>\n",
       "    </tr>\n",
       "    <tr>\n",
       "      <th>137085</th>\n",
       "      <td>141.0</td>\n",
       "    </tr>\n",
       "    <tr>\n",
       "      <th>137086</th>\n",
       "      <td>318.0</td>\n",
       "    </tr>\n",
       "    <tr>\n",
       "      <th>137087</th>\n",
       "      <td>141.0</td>\n",
       "    </tr>\n",
       "  </tbody>\n",
       "</table>\n",
       "<p>137088 rows × 1 columns</p>\n",
       "</div>"
      ],
      "text/plain": [
       "            0\n",
       "0       154.0\n",
       "1       331.0\n",
       "2       149.0\n",
       "3       364.0\n",
       "4       150.0\n",
       "...       ...\n",
       "137083  141.0\n",
       "137084  323.0\n",
       "137085  141.0\n",
       "137086  318.0\n",
       "137087  141.0\n",
       "\n",
       "[137088 rows x 1 columns]"
      ]
     },
     "execution_count": 71,
     "metadata": {},
     "output_type": "execute_result"
    }
   ],
   "source": [
    "export"
   ]
  },
  {
   "cell_type": "code",
   "execution_count": 72,
   "id": "a3058bdd-6cb5-4359-bfc6-d83db25c4bc3",
   "metadata": {},
   "outputs": [],
   "source": [
    "export.to_csv('model92_90_results_rounded_more.csv',index=True, header=True)"
   ]
  },
  {
   "cell_type": "code",
   "execution_count": null,
   "id": "330fcbee-25b3-4178-a28a-db28377e904e",
   "metadata": {},
   "outputs": [],
   "source": [
    "def show_image_with_box_and_points(image, box, keypoints):\n",
    "    \n",
    "    fig = plt.figure(figsize=(8, 10))\n",
    "    \n",
    "    ax = fig.subplots()\n",
    "\n",
    "    ax.imshow(image)\n",
    "    rect = patches.Rectangle((box[1], box[0]), box[2], box[3], linewidth=1, edgecolor='r', facecolor='none')\n",
    "    ax.add_patch(rect)\n",
    "    if keypoints: \n",
    "    \n",
    "        ax.scatter(*zip(*(keypoints)))"
   ]
  }
 ],
 "metadata": {
  "kernelspec": {
   "display_name": "Python 3 (ipykernel)",
   "language": "python",
   "name": "python3"
  },
  "language_info": {
   "codemirror_mode": {
    "name": "ipython",
    "version": 3
   },
   "file_extension": ".py",
   "mimetype": "text/x-python",
   "name": "python",
   "nbconvert_exporter": "python",
   "pygments_lexer": "ipython3",
   "version": "3.9.7"
  }
 },
 "nbformat": 4,
 "nbformat_minor": 5
}
