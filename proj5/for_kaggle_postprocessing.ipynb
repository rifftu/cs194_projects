{
 "cells": [
  {
   "cell_type": "code",
   "execution_count": 18,
   "id": "2716cfbb-08f5-44b7-9797-be8a72efb268",
   "metadata": {},
   "outputs": [],
   "source": [
    "import pandas as pd\n",
    "import numpy as np"
   ]
  },
  {
   "cell_type": "code",
   "execution_count": 34,
   "id": "3107d983-7a28-4847-a3ba-d20848de6574",
   "metadata": {},
   "outputs": [],
   "source": [
    "box_info = np.load('data/test_box.npy')"
   ]
  },
  {
   "cell_type": "code",
   "execution_count": 59,
   "id": "466c9977-9fb2-4bbc-bf2f-db73070440cd",
   "metadata": {},
   "outputs": [],
   "source": [
    "y_test = np.load('data/y_test_lastchance.npy')"
   ]
  },
  {
   "cell_type": "code",
   "execution_count": 36,
   "id": "cbbafb8f-9d30-479a-9d07-4cdc05984f2c",
   "metadata": {},
   "outputs": [],
   "source": [
    "img_sizes = np.load('data/test_imgsizes.npy')"
   ]
  },
  {
   "cell_type": "code",
   "execution_count": 60,
   "id": "9b5445b2-f392-46f5-830d-c417876adf2d",
   "metadata": {},
   "outputs": [
    {
     "data": {
      "text/plain": [
       "(1008, 136)"
      ]
     },
     "execution_count": 60,
     "metadata": {},
     "output_type": "execute_result"
    }
   ],
   "source": [
    "y_test.shape"
   ]
  },
  {
   "cell_type": "code",
   "execution_count": 61,
   "id": "fcd4ca41-ae2c-4787-ae5e-a906fa155117",
   "metadata": {},
   "outputs": [
    {
     "data": {
      "text/plain": [
       "array([0.3744375 , 0.43001842, 0.36269194, 0.49141333, 0.36371443,\n",
       "       0.55870676, 0.38021657, 0.6256271 , 0.40009576, 0.69034415,\n",
       "       0.42053226, 0.7543699 , 0.43924487, 0.81214094, 0.4595842 ,\n",
       "       0.8644774 , 0.5028385 , 0.88750196, 0.57255214, 0.8846736 ,\n",
       "       0.65732443, 0.85377073, 0.73791784, 0.81223834, 0.8090466 ,\n",
       "       0.7596466 , 0.86145914, 0.6929941 , 0.8884812 , 0.61483437,\n",
       "       0.90117204, 0.5305991 , 0.9091671 , 0.44473225, 0.35176855,\n",
       "       0.33018383, 0.37037745, 0.3199939 , 0.39694974, 0.3317019 ,\n",
       "       0.4216676 , 0.35039157, 0.44566876, 0.37583542, 0.516404  ,\n",
       "       0.38621685, 0.56977355, 0.37231204, 0.62703055, 0.37092796,\n",
       "       0.68375385, 0.38507804, 0.73517966, 0.4119099 , 0.47361478,\n",
       "       0.43782163, 0.45779437, 0.4820453 , 0.43951616, 0.52551347,\n",
       "       0.42105854, 0.5695267 , 0.4120742 , 0.6012032 , 0.42722467,\n",
       "       0.6163993 , 0.4472265 , 0.6253658 , 0.47469753, 0.6223246 ,\n",
       "       0.50540537, 0.6184785 , 0.38156858, 0.40721893, 0.39944246,\n",
       "       0.39288363, 0.42929435, 0.40137917, 0.4534859 , 0.4316315 ,\n",
       "       0.42256507, 0.43294528, 0.39335528, 0.4264012 , 0.5720033 ,\n",
       "       0.45327875, 0.5987632 , 0.43082386, 0.63528687, 0.43700656,\n",
       "       0.6708191 , 0.4587359 , 0.63454765, 0.47042787, 0.5984659 ,\n",
       "       0.46622747, 0.42065054, 0.71023035, 0.41798708, 0.68188375,\n",
       "       0.43609232, 0.6705286 , 0.45331055, 0.6804735 , 0.47555503,\n",
       "       0.67684567, 0.523412  , 0.6978737 , 0.57479626, 0.73265046,\n",
       "       0.5275607 , 0.7767914 , 0.48120517, 0.7924319 , 0.45644647,\n",
       "       0.7907438 , 0.4363047 , 0.78299785, 0.42065623, 0.7557242 ,\n",
       "       0.4307568 , 0.71157634, 0.43782663, 0.6980658 , 0.45507059,\n",
       "       0.70219374, 0.47654977, 0.7046017 , 0.55605537, 0.7305392 ,\n",
       "       0.47912946, 0.7502787 , 0.45642406, 0.7485529 , 0.43835598,\n",
       "       0.74029744], dtype=float32)"
      ]
     },
     "execution_count": 61,
     "metadata": {},
     "output_type": "execute_result"
    }
   ],
   "source": [
    "y_test[0]"
   ]
  },
  {
   "cell_type": "code",
   "execution_count": 62,
   "id": "34ebf009-7d06-4cfa-9869-8aa4da814acb",
   "metadata": {},
   "outputs": [],
   "source": [
    "y_test_adjusted = np.zeros((y_test.shape))"
   ]
  },
  {
   "cell_type": "code",
   "execution_count": 63,
   "id": "f7276bb5-0c18-49b1-937e-a7fda8ccf060",
   "metadata": {},
   "outputs": [],
   "source": [
    "total_delta_from_bounding = 0"
   ]
  },
  {
   "cell_type": "code",
   "execution_count": 64,
   "id": "b6ed8d16-4c85-482f-8c71-ca4f56048471",
   "metadata": {},
   "outputs": [],
   "source": [
    "for i in range(len(y_test)):\n",
    "    points = y_test[i].reshape((68, 2))\n",
    "    box = box_info[i]\n",
    "    top, left, width, height = box\n",
    "    \n",
    "    points = points * np.array([width, height])\n",
    "    points = points + np.array([left, top])\n",
    "    \n",
    "    \n",
    "    maxheight, maxwidth = img_sizes[i]\n",
    "    \n",
    "    points_bounded = np.maximum(points, np.array([0,0]))\n",
    "    points_bounded = np.minimum(points_bounded, np.array([maxwidth, maxheight]))\n",
    "    \n",
    "    points_bounded = points_bounded.flatten()\n",
    "    points = points.flatten()\n",
    "\n",
    "    total_delta_from_bounding += np.sum(np.abs(points_bounded - points))\n",
    "    \n",
    "    y_test_adjusted[i] = points_bounded\n",
    "    "
   ]
  },
  {
   "cell_type": "code",
   "execution_count": 65,
   "id": "d93f4c38-f75c-4be9-8bca-e00d7a455aa5",
   "metadata": {},
   "outputs": [
    {
     "data": {
      "text/plain": [
       "0.01791220597358008"
      ]
     },
     "execution_count": 65,
     "metadata": {},
     "output_type": "execute_result"
    }
   ],
   "source": [
    "total_delta_from_bounding/137088"
   ]
  },
  {
   "cell_type": "markdown",
   "id": "8668d56f-4892-4745-836f-54c2d7807aed",
   "metadata": {},
   "source": [
    "box: top, left, width, height"
   ]
  },
  {
   "cell_type": "code",
   "execution_count": 66,
   "id": "7406540d-d65e-45be-9e5c-9ae6539d07f5",
   "metadata": {},
   "outputs": [
    {
     "data": {
      "text/plain": [
       "array([150.82631832, 334.33978367, 144.58941954, 366.94047561,\n",
       "       145.13236061, 402.67328978, 153.89499798, 438.20799035,\n",
       "       164.450849  , 472.57274622, 175.30262813, 506.57042462,\n",
       "       185.23902404, 537.24684   , 196.03921357, 565.03749728,\n",
       "       219.00723946, 577.26353812, 256.02518874, 575.76167917,\n",
       "       301.0392741 , 559.35225916, 343.8343733 , 537.29855621,\n",
       "       381.60375845, 509.37234169, 409.43480122, 473.97987652,\n",
       "       423.78351706, 432.47704953, 430.52235425, 387.74813128,\n",
       "       434.7677359 , 342.1528241 , 138.78910178, 281.32761577,\n",
       "       148.67042658, 275.9167679 , 162.78031102, 282.13371131,\n",
       "       175.90549859, 292.05792195, 188.65010995, 305.56860733,\n",
       "       226.21050972, 311.08114687, 254.5497576 , 303.69769278,\n",
       "       284.95322281, 302.96274659, 315.07329333, 310.4764407 ,\n",
       "       342.3804009 , 324.72416118, 203.48944929, 338.48328376,\n",
       "       195.08880955, 361.96605051, 185.38307932, 385.04765266,\n",
       "       175.58208239, 408.41866302, 170.81140459, 425.2389009 ,\n",
       "       178.85629758, 433.30802202, 189.47726861, 438.06923646,\n",
       "       204.06438857, 436.45435512, 220.37024957, 434.41207129,\n",
       "       154.61291644, 322.23325348, 164.10394844, 314.62120679,\n",
       "       179.95529866, 319.13233823, 192.80101615, 335.19632941,\n",
       "       176.38205364, 335.89394435, 160.87165377, 332.41903609,\n",
       "       255.73375493, 346.69101635, 269.94327378, 334.76747102,\n",
       "       289.33732671, 338.05048493, 308.20494407, 349.58876982,\n",
       "       288.94480258, 355.79719937, 269.78540325, 353.56678754,\n",
       "       175.36543769, 483.13231611, 173.95113865, 468.0802725 ,\n",
       "       183.56502038, 462.05068165, 192.70790166, 467.33143193,\n",
       "       204.51972225, 465.40505064, 229.93176627, 476.57094085,\n",
       "       257.21681374, 495.03739363, 232.13473749, 518.47623008,\n",
       "       207.51994282, 526.7813341 , 194.37307495, 525.88497257,\n",
       "       183.67778957, 521.77185655, 175.36846027, 507.28954577,\n",
       "       180.73186469, 483.84703791, 184.48594236, 476.67294902,\n",
       "       193.64248064, 478.86487436, 205.04793021, 480.14350539,\n",
       "       247.26539987, 493.91631663, 206.41774508, 504.39799571,\n",
       "       194.36117452, 503.48159969, 184.7670266 , 499.0979389 ])"
      ]
     },
     "execution_count": 66,
     "metadata": {},
     "output_type": "execute_result"
    }
   ],
   "source": [
    "y_test_adjusted[0]"
   ]
  },
  {
   "cell_type": "code",
   "execution_count": 67,
   "id": "ebd9f5cd-eee9-4616-bf16-507f0024f9cb",
   "metadata": {},
   "outputs": [],
   "source": [
    "np.save('data/test_y_postprocessed.npy',y_test_adjusted)"
   ]
  },
  {
   "cell_type": "code",
   "execution_count": 68,
   "id": "b5aa67c7-a9dd-4b3e-a119-13bc26f023b7",
   "metadata": {},
   "outputs": [],
   "source": [
    "last_array = y_test_adjusted.flatten()"
   ]
  },
  {
   "cell_type": "code",
   "execution_count": null,
   "id": "b716a09a-06f8-4576-8380-2d356a4ee098",
   "metadata": {},
   "outputs": [],
   "source": []
  },
  {
   "cell_type": "code",
   "execution_count": 54,
   "id": "7423a77f-49ba-41db-b9e8-deec6f13def9",
   "metadata": {},
   "outputs": [],
   "source": [
    "last_array_rounded = np.rint(last_array)"
   ]
  },
  {
   "cell_type": "code",
   "execution_count": 57,
   "id": "8794b962-c6a7-4cbc-a308-f1a7b14017b2",
   "metadata": {},
   "outputs": [
    {
     "data": {
      "text/plain": [
       "0.00046455082470545913"
      ]
     },
     "execution_count": 57,
     "metadata": {},
     "output_type": "execute_result"
    }
   ],
   "source": [
    "np.sum(last_array_rounded - last_array)/137088"
   ]
  },
  {
   "cell_type": "code",
   "execution_count": 69,
   "id": "94f20441-d551-49da-9f4c-4277be416464",
   "metadata": {},
   "outputs": [],
   "source": [
    "export = pd.DataFrame(last_array)"
   ]
  },
  {
   "cell_type": "code",
   "execution_count": 70,
   "id": "13e348f2-044a-42b1-aa90-dd28cf5177dd",
   "metadata": {},
   "outputs": [
    {
     "data": {
      "text/html": [
       "<div>\n",
       "<style scoped>\n",
       "    .dataframe tbody tr th:only-of-type {\n",
       "        vertical-align: middle;\n",
       "    }\n",
       "\n",
       "    .dataframe tbody tr th {\n",
       "        vertical-align: top;\n",
       "    }\n",
       "\n",
       "    .dataframe thead th {\n",
       "        text-align: right;\n",
       "    }\n",
       "</style>\n",
       "<table border=\"1\" class=\"dataframe\">\n",
       "  <thead>\n",
       "    <tr style=\"text-align: right;\">\n",
       "      <th></th>\n",
       "      <th>0</th>\n",
       "    </tr>\n",
       "  </thead>\n",
       "  <tbody>\n",
       "    <tr>\n",
       "      <th>0</th>\n",
       "      <td>150.826318</td>\n",
       "    </tr>\n",
       "    <tr>\n",
       "      <th>1</th>\n",
       "      <td>334.339784</td>\n",
       "    </tr>\n",
       "    <tr>\n",
       "      <th>2</th>\n",
       "      <td>144.589420</td>\n",
       "    </tr>\n",
       "    <tr>\n",
       "      <th>3</th>\n",
       "      <td>366.940476</td>\n",
       "    </tr>\n",
       "    <tr>\n",
       "      <th>4</th>\n",
       "      <td>145.132361</td>\n",
       "    </tr>\n",
       "    <tr>\n",
       "      <th>...</th>\n",
       "      <td>...</td>\n",
       "    </tr>\n",
       "    <tr>\n",
       "      <th>137083</th>\n",
       "      <td>140.989805</td>\n",
       "    </tr>\n",
       "    <tr>\n",
       "      <th>137084</th>\n",
       "      <td>322.957449</td>\n",
       "    </tr>\n",
       "    <tr>\n",
       "      <th>137085</th>\n",
       "      <td>141.439827</td>\n",
       "    </tr>\n",
       "    <tr>\n",
       "      <th>137086</th>\n",
       "      <td>317.990211</td>\n",
       "    </tr>\n",
       "    <tr>\n",
       "      <th>137087</th>\n",
       "      <td>140.686810</td>\n",
       "    </tr>\n",
       "  </tbody>\n",
       "</table>\n",
       "<p>137088 rows × 1 columns</p>\n",
       "</div>"
      ],
      "text/plain": [
       "                 0\n",
       "0       150.826318\n",
       "1       334.339784\n",
       "2       144.589420\n",
       "3       366.940476\n",
       "4       145.132361\n",
       "...            ...\n",
       "137083  140.989805\n",
       "137084  322.957449\n",
       "137085  141.439827\n",
       "137086  317.990211\n",
       "137087  140.686810\n",
       "\n",
       "[137088 rows x 1 columns]"
      ]
     },
     "execution_count": 70,
     "metadata": {},
     "output_type": "execute_result"
    }
   ],
   "source": [
    "export"
   ]
  },
  {
   "cell_type": "code",
   "execution_count": 71,
   "id": "a3058bdd-6cb5-4359-bfc6-d83db25c4bc3",
   "metadata": {},
   "outputs": [],
   "source": [
    "export.to_csv('lastchance.csv',index=True, header=True)"
   ]
  },
  {
   "cell_type": "code",
   "execution_count": null,
   "id": "9311cf79-de00-44b8-b461-2d730f6d1816",
   "metadata": {},
   "outputs": [],
   "source": []
  }
 ],
 "metadata": {
  "kernelspec": {
   "display_name": "Python 3 (ipykernel)",
   "language": "python",
   "name": "python3"
  },
  "language_info": {
   "codemirror_mode": {
    "name": "ipython",
    "version": 3
   },
   "file_extension": ".py",
   "mimetype": "text/x-python",
   "name": "python",
   "nbconvert_exporter": "python",
   "pygments_lexer": "ipython3",
   "version": "3.9.7"
  }
 },
 "nbformat": 4,
 "nbformat_minor": 5
}
