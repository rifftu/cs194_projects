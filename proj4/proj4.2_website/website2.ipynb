{
 "cells": [
  {
   "cell_type": "markdown",
   "id": "3c0e9d8e-9032-4208-958b-66538f739165",
   "metadata": {},
   "source": [
    "# Proj 4 - stitching panoramas"
   ]
  },
  {
   "cell_type": "markdown",
   "id": "3459a325-1786-4783-980b-dbf6abb8faa5",
   "metadata": {},
   "source": [
    "### Jerry Lai"
   ]
  },
  {
   "cell_type": "markdown",
   "id": "6c9efda4-8b12-4bd2-81f9-caaa79412c6e",
   "metadata": {},
   "source": [
    "overview:\n",
    "\n",
    "\n",
    "part 0: final results, and the images i started with\n",
    "\n",
    "part 1: manually selecting the points\n",
    "\n",
    "part 2: automagically selecting the points:\n",
    "\n",
    "    2.1: harris\n",
    "    \n",
    "    2.2: matching\n",
    "    \n",
    "    2.3: ransac\n",
    "    \n",
    "    2.4: auto vs manual points, + comments\n",
    "    \n",
    "part 3: stitching the images together\n"
   ]
  },
  {
   "cell_type": "markdown",
   "id": "e1787474-96d6-45b2-b629-406062bf03fa",
   "metadata": {},
   "source": [
    "## Final results first."
   ]
  },
  {
   "cell_type": "markdown",
   "id": "687dab01-131f-43a6-bf42-59e096124629",
   "metadata": {
    "tags": []
   },
   "source": [
    "### Results from manual point selection"
   ]
  },
  {
   "cell_type": "markdown",
   "id": "6148490e-f814-4253-8c61-32bce7793927",
   "metadata": {},
   "source": [
    "<img src=\"data/lobby_combined_cropped.jpg\" alt=\"drawing\"/>\n",
    "\n",
    "<img src=\"data/roof_combined_cropped.jpg\" alt=\"drawing\"/>"
   ]
  },
  {
   "cell_type": "markdown",
   "id": "042c1962-3b92-4b3f-93b5-03ea44c6a86b",
   "metadata": {
    "tags": []
   },
   "source": [
    "### Results from automatic point selection"
   ]
  },
  {
   "cell_type": "markdown",
   "id": "44186afb-03ed-4112-895e-b0ae7d66647f",
   "metadata": {
    "execution": {
     "iopub.execute_input": "2021-10-27T06:17:21.253961Z",
     "iopub.status.busy": "2021-10-27T06:17:21.253961Z",
     "iopub.status.idle": "2021-10-27T06:17:21.266926Z",
     "shell.execute_reply": "2021-10-27T06:17:21.265928Z",
     "shell.execute_reply.started": "2021-10-27T06:17:21.253961Z"
    }
   },
   "source": [
    "<img src=\"data_auto/lobby_combined_cropped.jpg\" alt=\"drawing\"/>\n",
    "\n",
    "<img src=\"data_auto/roof_combined_cropped.jpg\" alt=\"drawing\"/>"
   ]
  },
  {
   "cell_type": "markdown",
   "id": "28ec7d65-f6c2-4d7f-b07c-c5ba4f75989f",
   "metadata": {
    "execution": {
     "iopub.execute_input": "2021-10-15T00:11:14.388589Z",
     "iopub.status.busy": "2021-10-15T00:11:14.387590Z",
     "iopub.status.idle": "2021-10-15T00:11:14.403547Z",
     "shell.execute_reply": "2021-10-15T00:11:14.403547Z",
     "shell.execute_reply.started": "2021-10-15T00:11:14.388589Z"
    }
   },
   "source": [
    "# Part 1 - Manual Point Selection"
   ]
  },
  {
   "cell_type": "markdown",
   "id": "e1a09f0a-182d-4c5d-b77a-82645e6f10cb",
   "metadata": {},
   "source": [
    "# Part 0: Pre-stitching pictures"
   ]
  },
  {
   "cell_type": "markdown",
   "id": "ab4e6189-d57b-410d-8240-3396e5e986e6",
   "metadata": {},
   "source": [
    "First, I took some pictures of a lobby of my apartment."
   ]
  },
  {
   "cell_type": "markdown",
   "id": "c556d5ec-51bb-4b44-87f4-333f4940ea8c",
   "metadata": {},
   "source": [
    "<img src=\"data/lobby0.jpg\" alt=\"drawing\" width=\"500\"/> <img src=\"data/lobby1.jpg\" alt=\"drawing\" width=\"500\"/> <img src=\"data/lobby2.jpg\" alt=\"drawing\" width=\"500\"/>"
   ]
  },
  {
   "cell_type": "markdown",
   "id": "9a6d9c10-e3df-4080-837d-6422a7d8bed3",
   "metadata": {},
   "source": [
    "Then I went to the roof and took some more pictures."
   ]
  },
  {
   "cell_type": "markdown",
   "id": "7e4a4b6c-6966-4931-9264-6afc46e563a5",
   "metadata": {},
   "source": [
    "<img src=\"data/roof1.jpg\" alt=\"drawing\" width=\"500\"/> <img src=\"data/roof2.jpg\" alt=\"drawing\" width=\"500\"/> <img src=\"data/roof3.jpg\" alt=\"drawing\" width=\"500\"/>"
   ]
  },
  {
   "cell_type": "markdown",
   "id": "2e8182ef-bec6-40c6-9ed9-feb0dc4cc2d3",
   "metadata": {},
   "source": [
    "# Part 1: Manually selecting the points"
   ]
  },
  {
   "cell_type": "markdown",
   "id": "c20009a2-e1a3-4cbb-95dc-1b39356044be",
   "metadata": {},
   "source": [
    "Then, I used the `ginput` thing to select the points.\n",
    "\n",
    "To avoid confusion, all the points will be stored in dictionaries.\n",
    "\n",
    "So the lobby points will be in the lobby_points dictionary. The keys will be like:\n",
    "\n",
    "{'1to2': points on image one that are meant to match with image 2,\n",
    "\n",
    "'2to1': points on image two that are meant to match with image 1, etc.}"
   ]
  },
  {
   "cell_type": "markdown",
   "id": "1842e42e-a733-4713-9483-e2109c58e5f9",
   "metadata": {},
   "source": [
    "### The results...\n",
    "Are going to be shown later, side by side with the automatically chosen points."
   ]
  },
  {
   "cell_type": "markdown",
   "id": "93609fcf-75e0-4a37-9d00-cfb1f2c996cd",
   "metadata": {},
   "source": [
    "# Part 2: Getting the points automatically"
   ]
  },
  {
   "cell_type": "markdown",
   "id": "c3f4bc51-de34-4628-ae1c-750783c4dd7e",
   "metadata": {},
   "source": [
    "## 2.1 Harris and ANMS"
   ]
  },
  {
   "cell_type": "markdown",
   "id": "e17d0879-f0db-4d5a-954d-3f8c512d3605",
   "metadata": {},
   "source": [
    "I used Harris with a min distance of 5 pixels. Then I used the ANMS algorithm from the paper, limiting it to 500 points.\n",
    "\n",
    "Afterwards, I cut it down again, only keeping 200 points."
   ]
  },
  {
   "cell_type": "markdown",
   "id": "64269e59-fd87-4192-b8ec-7f7756fb6274",
   "metadata": {},
   "source": [
    "These are the points:\n",
    "\n",
    "<img src=\"data_auto/anms_l.png\" alt=\"drawing\" width=\"1700\"/>\n",
    "<img src=\"data_auto/anms_r.png\" alt=\"drawing\" width=\"1700\"/>"
   ]
  },
  {
   "cell_type": "markdown",
   "id": "0a6a61c3-3e1e-4913-bb11-dcaffab9b1ab",
   "metadata": {},
   "source": [
    "## 2.2: Feature extraction and matching"
   ]
  },
  {
   "cell_type": "markdown",
   "id": "4998d845-92dc-4359-a54e-4624ac82e261",
   "metadata": {},
   "source": [
    "I did feature extraction by extracting 40x40 pixel squares then downscaling them to 8x8. No rotation. Then I did the matching, and used a best vs second best ratio of 0.5 as a threshold. These are the points I was left with:"
   ]
  },
  {
   "cell_type": "markdown",
   "id": "6741f0d8-83bd-4aa8-9f37-97350c7b038f",
   "metadata": {},
   "source": [
    "<img src=\"data_auto/match_l.png\" alt=\"drawing\" width=\"1700\"/>\n",
    "<img src=\"data_auto/match_r.png\" alt=\"drawing\" width=\"1700\"/>"
   ]
  },
  {
   "cell_type": "markdown",
   "id": "9f8a9639-c2bf-4341-8773-44e12a969cf5",
   "metadata": {},
   "source": [
    "As you can see, the majority of these points are valid. But there are a few bad ones."
   ]
  },
  {
   "cell_type": "markdown",
   "id": "76a3e4e8-e1e1-484d-90b1-c19be6df864f",
   "metadata": {},
   "source": [
    "## 2.3 - RANSAC"
   ]
  },
  {
   "cell_type": "markdown",
   "id": "d5f6a349-c52b-45f4-a903-541895f1016f",
   "metadata": {},
   "source": [
    "I ran RANSAC with 2000 iterations for each pair of images (4 pairs total). After running ransac, these are the largest groups of inliers:"
   ]
  },
  {
   "cell_type": "markdown",
   "id": "6da64057-9868-4c4c-880e-4ab93522a979",
   "metadata": {},
   "source": [
    "<img src=\"data_auto/ransac_l.png\" alt=\"drawing\" width=\"1700\"/>\n",
    "<img src=\"data_auto/ransac_r.png\" alt=\"drawing\" width=\"1700\"/>"
   ]
  },
  {
   "cell_type": "markdown",
   "id": "b9c77e64-3c22-4ead-a7e5-46fd132fafa8",
   "metadata": {},
   "source": [
    "If you look closely, you can see that all the point pairs (which are color-coded) match to the correct locations."
   ]
  },
  {
   "cell_type": "markdown",
   "id": "b0f4868a-bb4d-4c80-a907-b3fb52d48ad7",
   "metadata": {},
   "source": [
    "## 2.4 : Auto vs manual selected points"
   ]
  },
  {
   "cell_type": "markdown",
   "id": "b982e293-91db-43e4-b95d-7d719d06edf9",
   "metadata": {},
   "source": [
    "Here are the manually selected points"
   ]
  },
  {
   "cell_type": "markdown",
   "id": "7d1bc579-8e73-45f7-994a-28910f8bcf1f",
   "metadata": {},
   "source": [
    "<img src=\"data/lobby_points.png\" alt=\"drawing\" width=\"1600\"/>"
   ]
  },
  {
   "cell_type": "markdown",
   "id": "b3ad7e08-be39-4d87-a4cb-4ccca4319bd6",
   "metadata": {},
   "source": [
    "<img src=\"data/roof_points.png\" alt=\"drawing\" width=\"1600\"/>"
   ]
  },
  {
   "cell_type": "markdown",
   "id": "f11b33f2-7c3d-4121-8605-0b4d2e489e46",
   "metadata": {},
   "source": [
    "# Some comments"
   ]
  },
  {
   "cell_type": "markdown",
   "id": "7e045255-b2df-489d-8a54-007608f96c99",
   "metadata": {},
   "source": [
    "The auto and manual selected poitns in the roof pictures are similar. However, in the lobby picture, it has a lot of depth relative to how far away i was from the scene.\n",
    "\n",
    "With that knowledge, when I manually picked points I took care to only pick points that are on on roughly the same plane.\n",
    "\n",
    "The computer does not know to do this. So as you can see later, the stitching of lobby pictures from the automatic points suffered.\n",
    "\n",
    "However, the stitching of roof pictures from the automatic points was actually a little better than the manual one."
   ]
  },
  {
   "cell_type": "markdown",
   "id": "827bfd72-8963-40d2-b978-bfba44474272",
   "metadata": {},
   "source": [
    "To illustrate this point, here are the images in question:"
   ]
  },
  {
   "cell_type": "markdown",
   "id": "636450ac-4644-49b7-9651-d6f78f813339",
   "metadata": {},
   "source": [
    "The one on the bottom is the automatic one. It is worse."
   ]
  },
  {
   "cell_type": "markdown",
   "id": "a216b998-a0eb-4560-8b66-ba3b3b3be566",
   "metadata": {
    "execution": {
     "iopub.execute_input": "2021-10-27T06:49:50.648510Z",
     "iopub.status.busy": "2021-10-27T06:49:50.647512Z",
     "iopub.status.idle": "2021-10-27T06:49:50.657485Z",
     "shell.execute_reply": "2021-10-27T06:49:50.657485Z",
     "shell.execute_reply.started": "2021-10-27T06:49:50.648510Z"
    },
    "tags": []
   },
   "source": [
    "<img src=\"data/lobby_combined_cropped.jpg\" alt=\"drawing\"/>\n",
    "<img src=\"data_auto/lobby_combined_cropped.jpg\" alt=\"drawing\"/>\n"
   ]
  },
  {
   "cell_type": "markdown",
   "id": "68caf2e6-848a-47c7-8d86-171876a29a7f",
   "metadata": {},
   "source": [
    "# Part 3: stitching"
   ]
  },
  {
   "cell_type": "markdown",
   "id": "9026f070-bd4b-40fd-8946-3852b583dd8c",
   "metadata": {},
   "source": [
    "In this section, I will only include images and explanations from when I did it for the manually selected points, since I used the same code for both the manual and automatic and the images are pretty similar too."
   ]
  },
  {
   "cell_type": "markdown",
   "id": "5b88c059-0cf3-477f-bc1b-6c421e7e3a36",
   "metadata": {
    "jp-MarkdownHeadingCollapsed": true,
    "tags": []
   },
   "source": [
    "## Projective transformation from $n$ points?\n",
    "\n",
    "$$\\begin{bmatrix}\n",
    "wx'\\\\ \n",
    "wy'\\\\ \n",
    "w\n",
    "\\end{bmatrix} = \n",
    "\\begin{bmatrix}\n",
    "a &b  &c \\\\ \n",
    "d &e  &f \\\\ \n",
    "g &h  &1\n",
    "\\end{bmatrix}\n",
    "\\begin{bmatrix}\n",
    "x\\\\ \n",
    "y\\\\ \n",
    "1\n",
    "\\end{bmatrix}$$\n",
    "\n",
    "To phrase this into equations:\n",
    "\n",
    "$$x'w = ax + by + c$$\n",
    "$$y'w = dx + ey + f$$\n",
    "$$w = gx + hy + 1$$\n",
    "\n",
    "However, we need to remove $w$ from this set of equations, since we do not know the value of $w$.\n",
    "\n",
    "So:\n",
    "\n",
    "$$w - (gx + hy) = 1$$\n",
    "$$w - 1 = (gx + hy)$$\n",
    "\n",
    "$$x' = x'w - x'(w-1)$$\n",
    "$$x' = x'w - x'(gx + hy)$$\n",
    "$$x' = ax + by + c - gx'x - hx'y$$\n",
    "\n",
    "By the same logic, \n",
    "$$y' = dx + ey + f - gxy'x - hy'y$$\n",
    "\n",
    "This allows us to use the following system of equations:\n",
    "\n",
    "$$\n",
    "\\begin{bmatrix}\n",
    "x'_0\\\\\n",
    "y'_0\\\\\n",
    "x'_1\\\\\n",
    "y'_1\\\\ \n",
    "\\vdots\\\\\n",
    "x'_n\\\\\n",
    "y'_n\n",
    "\\end{bmatrix}\n",
    "=\n",
    "\\begin{bmatrix}\n",
    "x_0 & y_0 & 1 & 0 & 0 & 0 & -x'_0x_0 & -x'_0y_0\\\\\n",
    "0 & 0 & 0 & x_0 & y_0 & 1 & -y'_0x_0 & -y'_0y_0\\\\\n",
    "x_1 & y_1 & 1 & 0 & 0 & 0 & -x'_1x_1 & -x'_1y_1\\\\\n",
    "0 & 0 & 0 & x_1 & y_1 & 1 & -y'_1x_1 & -y'_1y_1\\\\\n",
    "&&&&\\vdots&&& \\\\\n",
    "x_n & y_n & 1 & 0 & 0 & 0 & -x'_nx_n & -x'_ny_n\\\\\n",
    "0 & 0 & 0 & x_n & y_n & 1 & -y'_nx_n & -y'_ny_n\n",
    "\\end{bmatrix}\n",
    "\\begin{bmatrix}\n",
    "a\\\\\n",
    "b\\\\\n",
    "c\\\\\n",
    "d\\\\\n",
    "e\\\\\n",
    "f\\\\\n",
    "g\\\\\n",
    "h\n",
    "\\end{bmatrix}\n",
    "$$"
   ]
  },
  {
   "cell_type": "markdown",
   "id": "5e946d7e-8132-4558-8752-a6c6d37a10b3",
   "metadata": {},
   "source": [
    "## Warped pictures of the lobby"
   ]
  },
  {
   "cell_type": "markdown",
   "id": "e72648f9-a107-4356-9ecf-49a32a85afa6",
   "metadata": {},
   "source": [
    "Note the orange and blue dots on each picture. They are the centroids of their respective sets of points. They represent a point where each pair of images are supposed to align to."
   ]
  },
  {
   "cell_type": "markdown",
   "id": "22878fdd-0049-47d6-9304-01b08a82a7d0",
   "metadata": {},
   "source": [
    "<img src=\"data/lobby_warps.png\" alt=\"drawing\" width=\"1700\"/>"
   ]
  },
  {
   "cell_type": "markdown",
   "id": "64b17335-5fac-4056-857d-540ce8af8f3a",
   "metadata": {},
   "source": [
    "## Positioning the images correctly, based on anchors"
   ]
  },
  {
   "cell_type": "markdown",
   "id": "bb64da0b-2dee-46d1-a677-2a915ee6f1cc",
   "metadata": {},
   "source": [
    "The orange and blue dots serve as anchors for when we position the images against each other.\n",
    "\n",
    "Using the positions of those dots with respect to the size of each image, I calculated the total size of the mosaic. Then, using those positions again, I pasted the warped image onto the mosaic in the correctly aligned positions."
   ]
  },
  {
   "cell_type": "markdown",
   "id": "8c1dbe57-bc79-48ec-b6bb-0f3e232f5cfe",
   "metadata": {},
   "source": [
    "<img src=\"data/lobby_positioned.png\" alt=\"drawing\" width=\"1400\"/>"
   ]
  },
  {
   "cell_type": "markdown",
   "id": "77dbb918-b006-4ad2-8b2e-f632b9703963",
   "metadata": {},
   "source": [
    "## Seperate low and high frequencies"
   ]
  },
  {
   "cell_type": "markdown",
   "id": "134e19d6-f276-4aec-ad34-d80b19eef81f",
   "metadata": {},
   "source": [
    "I used a gaussian filter (sigma = 20) to get the blurry components of each image then subtracted it from the original to get the sharp components."
   ]
  },
  {
   "cell_type": "markdown",
   "id": "bb33c7cb-aad6-4eb1-b509-874d9193a295",
   "metadata": {},
   "source": [
    "## Blend using weighted averaging for low freq, hard border for high freq"
   ]
  },
  {
   "cell_type": "markdown",
   "id": "67ce6531-a3b1-4443-9a30-bdba8569a59e",
   "metadata": {},
   "source": [
    "For the blurry components, I used a linear alpha along the overlaps between each pair of pictures."
   ]
  },
  {
   "cell_type": "markdown",
   "id": "c9bc919f-b909-4029-927e-3a7cdd88c121",
   "metadata": {},
   "source": [
    "For the sharp components, I just picked an `x` value. Then, I just put one image on the left, and one image on the right, with no averaging."
   ]
  },
  {
   "cell_type": "markdown",
   "id": "65f21290-9709-4a99-8d38-1a7b5d95d8d9",
   "metadata": {},
   "source": [
    "<img src=\"data/lobby_hi_low.png\" alt=\"drawing\" width=\"800\"/>"
   ]
  },
  {
   "cell_type": "markdown",
   "id": "8333180d-b989-4661-aade-cbf50a86662a",
   "metadata": {},
   "source": [
    "# Part 3.2 - Roof pictures"
   ]
  },
  {
   "cell_type": "markdown",
   "id": "ee1ae846-a95a-4ff6-b913-b1690b2b693d",
   "metadata": {},
   "source": [
    "## Original pictures:\n",
    "\n",
    "<img src=\"data/roof1.jpg\" alt=\"drawing\" width=\"500\"/> <img src=\"data/roof2.jpg\" alt=\"drawing\" width=\"500\"/> <img src=\"data/roof3.jpg\" alt=\"drawing\" width=\"500\"/>"
   ]
  },
  {
   "cell_type": "markdown",
   "id": "43a425f7-bbb1-4c1e-bf44-16e48763b0aa",
   "metadata": {},
   "source": [
    "## Marked points:"
   ]
  },
  {
   "cell_type": "markdown",
   "id": "481edef3-802b-4050-8c14-59f93cb64370",
   "metadata": {},
   "source": [
    "## Warped images:"
   ]
  },
  {
   "cell_type": "markdown",
   "id": "05d45c66-10bd-4150-9257-cf64cbb06fed",
   "metadata": {},
   "source": [
    "<img src=\"data/roof_warps.png\" alt=\"drawing\" width=\"1700\"/>"
   ]
  },
  {
   "cell_type": "markdown",
   "id": "14605dc8-0a4a-46c5-bb1c-d66a85e6afb5",
   "metadata": {},
   "source": [
    "## Positioning the images"
   ]
  },
  {
   "cell_type": "markdown",
   "id": "5e4230f2-6761-42f8-9d9a-e775f5a6b53e",
   "metadata": {},
   "source": [
    "<img src=\"data/roof_positioned.png\" alt=\"drawing\" width=\"1400\"/>"
   ]
  },
  {
   "cell_type": "markdown",
   "id": "db067667-6c7f-4798-b19f-9d3528aa16dd",
   "metadata": {},
   "source": [
    "## Blending the low and high frequencies"
   ]
  },
  {
   "cell_type": "markdown",
   "id": "dd5dad1f-7aed-48f1-83aa-e8024b3c02c5",
   "metadata": {},
   "source": [
    "<img src=\"data/roof_hi_low.png\" alt=\"drawing\" width=\"800\"/>"
   ]
  },
  {
   "cell_type": "code",
   "execution_count": null,
   "id": "ba16939e-e174-492d-b6c8-5952981e4d70",
   "metadata": {},
   "outputs": [],
   "source": []
  }
 ],
 "metadata": {
  "kernelspec": {
   "display_name": "Python 3 (ipykernel)",
   "language": "python",
   "name": "python3"
  },
  "language_info": {
   "codemirror_mode": {
    "name": "ipython",
    "version": 3
   },
   "file_extension": ".py",
   "mimetype": "text/x-python",
   "name": "python",
   "nbconvert_exporter": "python",
   "pygments_lexer": "ipython3",
   "version": "3.8.11"
  }
 },
 "nbformat": 4,
 "nbformat_minor": 5
}
