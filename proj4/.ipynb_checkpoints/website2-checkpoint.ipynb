{
 "cells": [
  {
   "cell_type": "markdown",
   "id": "3c0e9d8e-9032-4208-958b-66538f739165",
   "metadata": {},
   "source": [
    "# Proj 4 Part 1 - stitching panoramas"
   ]
  },
  {
   "cell_type": "markdown",
   "id": "3459a325-1786-4783-980b-dbf6abb8faa5",
   "metadata": {},
   "source": [
    "### Jerry Lai"
   ]
  },
  {
   "cell_type": "markdown",
   "id": "e1787474-96d6-45b2-b629-406062bf03fa",
   "metadata": {},
   "source": [
    "Final results first."
   ]
  },
  {
   "cell_type": "markdown",
   "id": "6148490e-f814-4253-8c61-32bce7793927",
   "metadata": {},
   "source": [
    "<img src=\"data/lobby_combined_cropped.jpg\" alt=\"drawing\"/>\n",
    "\n",
    "<img src=\"data/roof_combined_cropped.jpg\" alt=\"drawing\"/>"
   ]
  },
  {
   "cell_type": "markdown",
   "id": "28ec7d65-f6c2-4d7f-b07c-c5ba4f75989f",
   "metadata": {
    "execution": {
     "iopub.execute_input": "2021-10-15T00:11:14.388589Z",
     "iopub.status.busy": "2021-10-15T00:11:14.387590Z",
     "iopub.status.idle": "2021-10-15T00:11:14.403547Z",
     "shell.execute_reply": "2021-10-15T00:11:14.403547Z",
     "shell.execute_reply.started": "2021-10-15T00:11:14.388589Z"
    }
   },
   "source": [
    "# Part 1.1 - Lobby pictures"
   ]
  },
  {
   "cell_type": "markdown",
   "id": "e1a09f0a-182d-4c5d-b77a-82645e6f10cb",
   "metadata": {},
   "source": [
    "## Pre-stitching pictures"
   ]
  },
  {
   "cell_type": "markdown",
   "id": "ab4e6189-d57b-410d-8240-3396e5e986e6",
   "metadata": {},
   "source": [
    "First, I took some pictures of a lobby of my apartment."
   ]
  },
  {
   "cell_type": "markdown",
   "id": "c556d5ec-51bb-4b44-87f4-333f4940ea8c",
   "metadata": {},
   "source": [
    "<img src=\"data/lobby0.jpg\" alt=\"drawing\" width=\"500\"/> <img src=\"data/lobby1.jpg\" alt=\"drawing\" width=\"500\"/> <img src=\"data/lobby2.jpg\" alt=\"drawing\" width=\"500\"/>"
   ]
  },
  {
   "cell_type": "markdown",
   "id": "c6a58784-b46b-43e5-b097-218cd1859672",
   "metadata": {},
   "source": [
    "## Getting the points"
   ]
  },
  {
   "cell_type": "markdown",
   "id": "c20009a2-e1a3-4cbb-95dc-1b39356044be",
   "metadata": {},
   "source": [
    "Then, I used the `ginput` thing to select the points.\n",
    "\n",
    "To avoid confusion, all the points will be stored in dictionaries.\n",
    "\n",
    "So the lobby points will be in the lobby_points dictionary. The keys will be like:\n",
    "\n",
    "{'1to2': points on image one that are meant to match with image 2,\n",
    "\n",
    "'2to1': points on image two that are meant to match with image 1, etc.}"
   ]
  },
  {
   "cell_type": "markdown",
   "id": "99268b28-8cd8-48c2-b186-1c9b0bf032df",
   "metadata": {},
   "source": [
    "From running it repeatedly:"
   ]
  },
  {
   "cell_type": "markdown",
   "id": "33d6e116-08e5-4b98-894d-2f7c4a5fdd26",
   "metadata": {},
   "source": [
    "    lobby_points = {\n",
    "        '0to1': \n",
    "           [1385.37530635,  335.60785382],\n",
    "           [1568.81359071,  339.27661951],\n",
    "           [1385.37530635,  560.62548264],\n",
    "           [1570.0365126 ,  564.29424832],\n",
    "           [1386.59822824,  698.81565685],\n",
    "           [1568.81359071,  700.03857875],\n",
    "        '1to0': \n",
    "           [115.98237858, 339.27661951],\n",
    "           [295.75189725, 364.95797932],\n",
    "           [114.75945669, 574.07762349],\n",
    "           [295.75189725, 582.63807676],\n",
    "           [115.98237858, 717.15948529],\n",
    "           [295.75189725, 711.04487581],\n",
    "        '1to2': \n",
    "           [1299.02652789,  399.3344027 ],\n",
    "           [1577.02093004,  370.3411215 ],\n",
    "           [1304.14298928,  762.60316134],\n",
    "           [1582.13739143,  779.65803264],\n",
    "           [1321.19786058,  805.24033958],\n",
    "           [1483.2191379 ,  912.68602876],\n",
    "        '2to1': \n",
    "           [143.2661081 , 355.01795318],\n",
    "           [413.95793769, 356.42050152],\n",
    "           [141.86355976, 735.10855328],\n",
    "           [411.15284101, 737.91364996],\n",
    "           [157.2915915 , 775.78245514],\n",
    "           [311.57190888, 865.54554889],\n",
    "    }"
   ]
  },
  {
   "cell_type": "markdown",
   "id": "7d1bc579-8e73-45f7-994a-28910f8bcf1f",
   "metadata": {},
   "source": [
    "<img src=\"data/lobby_points.png\" alt=\"drawing\" width=\"1600\"/>"
   ]
  },
  {
   "cell_type": "markdown",
   "id": "5b88c059-0cf3-477f-bc1b-6c421e7e3a36",
   "metadata": {},
   "source": [
    "## Projective transformation from $n$ points?\n",
    "\n",
    "$$\\begin{bmatrix}\n",
    "wx'\\\\ \n",
    "wy'\\\\ \n",
    "w\n",
    "\\end{bmatrix} = \n",
    "\\begin{bmatrix}\n",
    "a &b  &c \\\\ \n",
    "d &e  &f \\\\ \n",
    "g &h  &1\n",
    "\\end{bmatrix}\n",
    "\\begin{bmatrix}\n",
    "x\\\\ \n",
    "y\\\\ \n",
    "1\n",
    "\\end{bmatrix}$$\n",
    "\n",
    "To phrase this into equations:\n",
    "\n",
    "$$x'w = ax + by + c$$\n",
    "$$y'w = dx + ey + f$$\n",
    "$$w = gx + hy + 1$$\n",
    "\n",
    "However, we need to remove $w$ from this set of equations, since we do not know the value of $w$.\n",
    "\n",
    "So:\n",
    "\n",
    "$$w - (gx + hy) = 1$$\n",
    "$$w - 1 = (gx + hy)$$\n",
    "\n",
    "$$x' = x'w - x'(w-1)$$\n",
    "$$x' = x'w - x'(gx + hy)$$\n",
    "$$x' = ax + by + c - gx'x - hx'y$$\n",
    "\n",
    "By the same logic, \n",
    "$$y' = dx + ey + f - gxy'x - hy'y$$\n",
    "\n",
    "This allows us to use the following system of equations:\n",
    "\n",
    "$$\n",
    "\\begin{bmatrix}\n",
    "x'_0\\\\\n",
    "y'_0\\\\\n",
    "x'_1\\\\\n",
    "y'_1\\\\ \n",
    "\\vdots\\\\\n",
    "x'_n\\\\\n",
    "y'_n\n",
    "\\end{bmatrix}\n",
    "=\n",
    "\\begin{bmatrix}\n",
    "x_0 & y_0 & 1 & 0 & 0 & 0 & -x'_0x_0 & -x'_0y_0\\\\\n",
    "0 & 0 & 0 & x_0 & y_0 & 1 & -y'_0x_0 & -y'_0y_0\\\\\n",
    "x_1 & y_1 & 1 & 0 & 0 & 0 & -x'_1x_1 & -x'_1y_1\\\\\n",
    "0 & 0 & 0 & x_1 & y_1 & 1 & -y'_1x_1 & -y'_1y_1\\\\\n",
    "&&&&\\vdots&&& \\\\\n",
    "x_n & y_n & 1 & 0 & 0 & 0 & -x'_nx_n & -x'_ny_n\\\\\n",
    "0 & 0 & 0 & x_n & y_n & 1 & -y'_nx_n & -y'_ny_n\n",
    "\\end{bmatrix}\n",
    "\\begin{bmatrix}\n",
    "a\\\\\n",
    "b\\\\\n",
    "c\\\\\n",
    "d\\\\\n",
    "e\\\\\n",
    "f\\\\\n",
    "g\\\\\n",
    "h\n",
    "\\end{bmatrix}\n",
    "$$"
   ]
  },
  {
   "cell_type": "markdown",
   "id": "5e946d7e-8132-4558-8752-a6c6d37a10b3",
   "metadata": {},
   "source": [
    "## Warped pictures of the lobby"
   ]
  },
  {
   "cell_type": "markdown",
   "id": "e72648f9-a107-4356-9ecf-49a32a85afa6",
   "metadata": {},
   "source": [
    "Note the orange and blue dots on each picture. They are the centroids of their respective sets of points. They represent a point where each pair of images are supposed to align to."
   ]
  },
  {
   "cell_type": "markdown",
   "id": "22878fdd-0049-47d6-9304-01b08a82a7d0",
   "metadata": {},
   "source": [
    "<img src=\"data/lobby_warps.png\" alt=\"drawing\" width=\"1700\"/>"
   ]
  },
  {
   "cell_type": "markdown",
   "id": "64b17335-5fac-4056-857d-540ce8af8f3a",
   "metadata": {},
   "source": [
    "## Positioning the images correctly, based on anchors"
   ]
  },
  {
   "cell_type": "markdown",
   "id": "bb64da0b-2dee-46d1-a677-2a915ee6f1cc",
   "metadata": {},
   "source": [
    "The orange and blue dots serve as anchors for when we position the images against each other.\n",
    "\n",
    "Using the positions of those dots with respect to the size of each image, I calculated the total size of the mosaic. Then, using those positions again, I pasted the warped image onto the mosaic in the correctly aligned positions."
   ]
  },
  {
   "cell_type": "markdown",
   "id": "8c1dbe57-bc79-48ec-b6bb-0f3e232f5cfe",
   "metadata": {},
   "source": [
    "<img src=\"data/lobby_positioned.png\" alt=\"drawing\" width=\"1400\"/>"
   ]
  },
  {
   "cell_type": "markdown",
   "id": "77dbb918-b006-4ad2-8b2e-f632b9703963",
   "metadata": {},
   "source": [
    "## Seperate low and high frequencies"
   ]
  },
  {
   "cell_type": "markdown",
   "id": "134e19d6-f276-4aec-ad34-d80b19eef81f",
   "metadata": {},
   "source": [
    "I used a gaussian filter (sigma = 20) to get the blurry components of each image then subtracted it from the original to get the sharp components."
   ]
  },
  {
   "cell_type": "markdown",
   "id": "bb33c7cb-aad6-4eb1-b509-874d9193a295",
   "metadata": {},
   "source": [
    "## Blend using weighted averaging for low freq, hard border for high freq"
   ]
  },
  {
   "cell_type": "markdown",
   "id": "67ce6531-a3b1-4443-9a30-bdba8569a59e",
   "metadata": {},
   "source": [
    "For the blurry components, I used a linear alpha along the overlaps between each pair of pictures."
   ]
  },
  {
   "cell_type": "markdown",
   "id": "c9bc919f-b909-4029-927e-3a7cdd88c121",
   "metadata": {},
   "source": [
    "For the sharp components, I just picked an `x` value. Then, I just put one image on the left, and one image on the right, with no averaging."
   ]
  },
  {
   "cell_type": "markdown",
   "id": "65f21290-9709-4a99-8d38-1a7b5d95d8d9",
   "metadata": {},
   "source": [
    "<img src=\"data/lobby_hi_low.png\" alt=\"drawing\" width=\"800\"/>"
   ]
  },
  {
   "cell_type": "markdown",
   "id": "8333180d-b989-4661-aade-cbf50a86662a",
   "metadata": {},
   "source": [
    "# Part 1.2 - Roof pictures"
   ]
  },
  {
   "cell_type": "markdown",
   "id": "1aa2e426-306b-4d59-b1a4-d536ad7387ad",
   "metadata": {},
   "source": [
    "My next set of pictures were taken from the roof of the building where I live. It's of the area north of downtown berkeley"
   ]
  },
  {
   "cell_type": "markdown",
   "id": "ee1ae846-a95a-4ff6-b913-b1690b2b693d",
   "metadata": {},
   "source": [
    "## Original pictures:\n",
    "\n",
    "<img src=\"data/roof1.jpg\" alt=\"drawing\" width=\"500\"/> <img src=\"data/roof2.jpg\" alt=\"drawing\" width=\"500\"/> <img src=\"data/roof3.jpg\" alt=\"drawing\" width=\"500\"/>"
   ]
  },
  {
   "cell_type": "markdown",
   "id": "43a425f7-bbb1-4c1e-bf44-16e48763b0aa",
   "metadata": {},
   "source": [
    "## Marked points:"
   ]
  },
  {
   "cell_type": "markdown",
   "id": "b3ad7e08-be39-4d87-a4cb-4ccca4319bd6",
   "metadata": {},
   "source": [
    "<img src=\"data/roof_points.png\" alt=\"drawing\" width=\"1600\"/>"
   ]
  },
  {
   "cell_type": "markdown",
   "id": "481edef3-802b-4050-8c14-59f93cb64370",
   "metadata": {},
   "source": [
    "## Warped images:"
   ]
  },
  {
   "cell_type": "markdown",
   "id": "05d45c66-10bd-4150-9257-cf64cbb06fed",
   "metadata": {},
   "source": [
    "<img src=\"data/roof_warps.png\" alt=\"drawing\" width=\"1700\"/>"
   ]
  },
  {
   "cell_type": "markdown",
   "id": "14605dc8-0a4a-46c5-bb1c-d66a85e6afb5",
   "metadata": {},
   "source": [
    "## Positioning the images"
   ]
  },
  {
   "cell_type": "markdown",
   "id": "5e4230f2-6761-42f8-9d9a-e775f5a6b53e",
   "metadata": {},
   "source": [
    "<img src=\"data/roof_positioned.png\" alt=\"drawing\" width=\"1400\"/>"
   ]
  },
  {
   "cell_type": "markdown",
   "id": "db067667-6c7f-4798-b19f-9d3528aa16dd",
   "metadata": {},
   "source": [
    "## Blending the low and high frequencies"
   ]
  },
  {
   "cell_type": "markdown",
   "id": "dd5dad1f-7aed-48f1-83aa-e8024b3c02c5",
   "metadata": {},
   "source": [
    "<img src=\"data/roof_hi_low.png\" alt=\"drawing\" width=\"800\"/>"
   ]
  },
  {
   "cell_type": "code",
   "execution_count": null,
   "id": "ba16939e-e174-492d-b6c8-5952981e4d70",
   "metadata": {},
   "outputs": [],
   "source": []
  }
 ],
 "metadata": {
  "kernelspec": {
   "display_name": "Python 3 (ipykernel)",
   "language": "python",
   "name": "python3"
  },
  "language_info": {
   "codemirror_mode": {
    "name": "ipython",
    "version": 3
   },
   "file_extension": ".py",
   "mimetype": "text/x-python",
   "name": "python",
   "nbconvert_exporter": "python",
   "pygments_lexer": "ipython3",
   "version": "3.8.11"
  }
 },
 "nbformat": 4,
 "nbformat_minor": 5
}
