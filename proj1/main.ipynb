{
 "cells": [
  {
   "cell_type": "code",
   "execution_count": 1,
   "metadata": {},
   "outputs": [],
   "source": [
    "import numpy as np\n",
    "import skimage as sk\n",
    "import skimage.io as skio"
   ]
  },
  {
   "cell_type": "code",
   "execution_count": 2,
   "metadata": {},
   "outputs": [],
   "source": [
    "def read_img(name):\n",
    "    # read in the image\n",
    "    im = skio.imread(name)\n",
    "\n",
    "    # convert to double (might want to do this later on to save memory)    \n",
    "    im = sk.img_as_float(im)\n",
    "\n",
    "    # compute the height of each part (just 1/3 of total)\n",
    "    height = np.floor(im.shape[0] / 3.0).astype(np.int)\n",
    "    \n",
    "    im_channels = {}\n",
    "    # separate color channels\n",
    "    \n",
    "    im_channels['b'] = im[:height]\n",
    "    im_channels['g'] = im[height: 2*height]\n",
    "    im_channels['r'] = im[2*height: 3*height]\n",
    "    \n",
    "    return im_channels\n"
   ]
  },
  {
   "cell_type": "code",
   "execution_count": null,
   "metadata": {},
   "outputs": [],
   "source": []
  },
  {
   "cell_type": "code",
   "execution_count": 5,
   "metadata": {},
   "outputs": [],
   "source": [
    "cathedral_pre = read_img('data/cathedral.jpg')"
   ]
  },
  {
   "cell_type": "code",
   "execution_count": null,
   "metadata": {},
   "outputs": [],
   "source": []
  },
  {
   "cell_type": "code",
   "execution_count": null,
   "metadata": {},
   "outputs": [],
   "source": [
    "# name of the input file\n",
    "imname = 'cathedral.jpg'\n",
    "\n",
    "# read in the image\n",
    "im = skio.imread(imname)\n",
    "\n",
    "# convert to double (might want to do this later on to save memory)    \n",
    "im = sk.img_as_float(im)\n",
    "    \n",
    "# compute the height of each part (just 1/3 of total)\n",
    "height = np.floor(im.shape[0] / 3.0).astype(np.int)\n",
    "\n",
    "# separate color channels\n",
    "b = im[:height]\n",
    "g = im[height: 2*height]\n",
    "r = im[2*height: 3*height]\n",
    "\n",
    "# align the images\n",
    "# functions that might be useful for aligning the images include:\n",
    "# np.roll, np.sum, sk.transform.rescale (for multiscale)\n",
    "\n",
    "### ag = align(g, b)\n",
    "### ar = align(r, b)\n",
    "# create a color image\n",
    "im_out = np.dstack([ar, ag, b])\n",
    "\n",
    "# save the image\n",
    "fname = '/out_path/out_fname.jpg'\n",
    "skio.imsave(fname, im_out)\n",
    "\n",
    "# display the image\n",
    "skio.imshow(im_out)\n",
    "skio.show()"
   ]
  }
 ],
 "metadata": {
  "kernelspec": {
   "display_name": "Python 3",
   "language": "python",
   "name": "python3"
  },
  "language_info": {
   "codemirror_mode": {
    "name": "ipython",
    "version": 3
   },
   "file_extension": ".py",
   "mimetype": "text/x-python",
   "name": "python",
   "nbconvert_exporter": "python",
   "pygments_lexer": "ipython3",
   "version": "3.7.3"
  }
 },
 "nbformat": 4,
 "nbformat_minor": 4
}
